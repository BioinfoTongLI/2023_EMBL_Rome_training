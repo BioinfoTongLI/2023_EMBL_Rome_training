{
 "cells": [
  {
   "cell_type": "markdown",
   "metadata": {},
   "source": [
    "Decoded results on WebAtlas"
   ]
  },
  {
   "attachments": {},
   "cell_type": "markdown",
   "metadata": {},
   "source": [
    "https://webatlas.cog.sanger.ac.uk/dev/index.html?config=https://bayraktar.cog.sanger.ac.uk/EMBL_training/demo/iss/0.3.2/EMBL_training-iss-config.json"
   ]
  }
 ],
 "metadata": {
  "kernelspec": {
   "display_name": "EMBL_training",
   "language": "python",
   "name": "embl_training"
  },
  "language_info": {
   "codemirror_mode": {
    "name": "ipython",
    "version": 3
   },
   "file_extension": ".py",
   "mimetype": "text/x-python",
   "name": "python",
   "nbconvert_exporter": "python",
   "pygments_lexer": "ipython3",
   "version": "3.9.16"
  }
 },
 "nbformat": 4,
 "nbformat_minor": 4
}
