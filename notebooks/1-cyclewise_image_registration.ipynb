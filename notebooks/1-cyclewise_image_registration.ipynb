{
 "cells": [
  {
   "cell_type": "markdown",
   "metadata": {},
   "source": [
    "# Whole notebook in a nutshell"
   ]
  },
  {
   "cell_type": "markdown",
   "metadata": {},
   "source": [
    "bash /scratch/iss_decoding/nf/workflow-registration/local.sh \\\n",
    "    /scratch/tl10/registration/registration.yaml"
   ]
  },
  {
   "cell_type": "code",
   "execution_count": 1,
   "metadata": {},
   "outputs": [
    {
     "name": "stdout",
     "output_type": "stream",
     "text": [
      "feature_reg_yaml : /scratch/iss_decoding/data/registration/in/feat_reg.yaml\n",
      "optflow_reg_yaml : /scratch/iss_decoding/data/registration/in/optflow_reg.yaml\n",
      "sif_folder : /scratch/iss_decoding/sifs/\n",
      "out_dir : ./out/\n"
     ]
    }
   ],
   "source": [
    "! cat /scratch/tl10/registration/registration.yaml"
   ]
  },
  {
   "attachments": {},
   "cell_type": "markdown",
   "metadata": {},
   "source": [
    "# Or step by step ..."
   ]
  },
  {
   "cell_type": "code",
   "execution_count": 1,
   "metadata": {},
   "outputs": [],
   "source": [
    "import napari\n",
    "from glob import glob\n",
    "from dask_image.imread import imread\n",
    "\n",
    "import numpy as np\n",
    "import matplotlib.pyplot as plt\n",
    "plt.rcParams['figure.figsize'] = [10, 10]"
   ]
  },
  {
   "cell_type": "code",
   "execution_count": 2,
   "metadata": {},
   "outputs": [],
   "source": [
    "# Set the root directory\n",
    "root = \"/scratch/iss_decoding/workshop_data/registration/in/\""
   ]
  },
  {
   "cell_type": "code",
   "execution_count": 3,
   "metadata": {},
   "outputs": [
    {
     "name": "stdout",
     "output_type": "stream",
     "text": [
      "NT_FLW_KR0116_DAHN58.1d-S63_Nucleus_AP1-Cy5_AP1-Cy3_AP1-AF488_AP1-Atto425_Meas9_A02_F1T1_max.ome_31576_demo_cycle1_32867_38083_37146_42065.ome.tif\n",
      "NT_FLW_KR0116_DAHN58.1d-S63_Nucleus_AP2-Cy5_AP2-Cy3_AP2-AF488_AP2-Atto425_Meas11_A02_F1T1_max.ome_31670_demo_cycle2_33582_39786_37759_43528.ome.tif\n",
      "NT_FLW_KR0116_DAHN58.1d-S63_Nucleus_AP3-Cy5_AP3-Cy3_AP3-AF488_AP3-Atto425_Meas16_A02_F1T1_max.ome_31672_demo_cycle3_34215_39599_38506_43474.ome.tif\n",
      "NT_FLW_KR0116_DAHN58.1d-S63_Nucleus_AP4-Cy5_AP4-Cy3_AP4-AF488_AP4-Atto425_Meas18_A02_F1T1_max.ome_31668_demo_cycle4_34426_40028_38796_43910.ome.tif\n",
      "NT_FLW_KR0116_DAHN58.1d-S63_Nucleus_AP5-Cy5_AP5-Cy3_AP5-AF488_AP5-Atto425_Meas20_A02_F1T1_max.ome_31669_demo_cycle5_34889_39511_39138_43313.ome.tif\n",
      "NT_FLW_KR0116_DAHN58.1d-S63_Nucleus_AP6-Cy5_AP6-Cy3_AP6-AF488_AP6-Atto425_Meas23_A02_F1T1_max.ome_31673_demo_cycle6_33329_39612_37600_43175.ome.tif\n",
      "NT_FLW_KR0116_DAHN58.1d-S63_Nucleus_Anchor_Background_Background_Background_Meas5_A02_F1T1_max.ome_31671_demo_anchor_32477_40268_36712_44382.ome.tif\n"
     ]
    }
   ],
   "source": [
    "! ls {root}"
   ]
  },
  {
   "cell_type": "code",
   "execution_count": 4,
   "metadata": {},
   "outputs": [],
   "source": [
    "# Load the reference and moving images\n",
    "ref_cyc = imread(f\"{root}/NT_FLW_KR0116_DAHN58.1d-S63_Nucleus_Anchor_Background_Background_Background_Meas5_A02_F1T1_max.ome_31671_demo_anchor_32477_40268_36712_44382.ome.tif\")\n",
    "moving_cyc = imread(f\"{root}/NT_FLW_KR0116_DAHN58.1d-S63_Nucleus_AP1-Cy5_AP1-Cy3_AP1-AF488_AP1-Atto425_Meas9_A02_F1T1_max.ome_31576_demo_cycle1_32867_38083_37146_42065.ome.tif\")"
   ]
  },
  {
   "cell_type": "code",
   "execution_count": 5,
   "metadata": {},
   "outputs": [
    {
     "name": "stderr",
     "output_type": "stream",
     "text": [
      "WARNING: QStandardPaths: error creating runtime directory '/run/user/1386' (Read-only file system)\n",
      "WARNING: Qt: Session management error: None of the authentication protocols specified are supported\n"
     ]
    }
   ],
   "source": [
    "viewer = napari.Viewer()"
   ]
  },
  {
   "cell_type": "code",
   "execution_count": 7,
   "metadata": {},
   "outputs": [
    {
     "data": {
      "text/plain": [
       "((5, 4114, 4234), (5, 3981, 4278))"
      ]
     },
     "execution_count": 7,
     "metadata": {},
     "output_type": "execute_result"
    }
   ],
   "source": [
    "ref_cyc.shape, moving_cyc.shape"
   ]
  },
  {
   "cell_type": "code",
   "execution_count": 8,
   "metadata": {},
   "outputs": [],
   "source": [
    "min_x = min(ref_cyc.shape[1], moving_cyc.shape[1]) # the minimum Y size\n",
    "min_y = min(ref_cyc.shape[2], moving_cyc.shape[2]) # the minimum X size"
   ]
  },
  {
   "cell_type": "code",
   "execution_count": 9,
   "metadata": {},
   "outputs": [],
   "source": [
    "ref_DAPI = ref_cyc[0] # DAPI is the first channel\n",
    "ref_anchor = ref_cyc[1] # Anchor is the second channel\n",
    "moving_DAPI = moving_cyc[0] # DAPI is the first channel"
   ]
  },
  {
   "cell_type": "code",
   "execution_count": 10,
   "metadata": {},
   "outputs": [
    {
     "data": {
      "text/plain": [
       "<Image layer 'moving_DAPI' at 0x7f07ac3a5dc0>"
      ]
     },
     "execution_count": 10,
     "metadata": {},
     "output_type": "execute_result"
    }
   ],
   "source": [
    "viewer.add_image(ref_DAPI, blending=\"additive\", colormap=\"cyan\")\n",
    "viewer.add_image(moving_DAPI, blending=\"additive\", colormap=\"magenta\")"
   ]
  },
  {
   "cell_type": "code",
   "execution_count": 15,
   "metadata": {},
   "outputs": [],
   "source": [
    "# Show misaligned images\n",
    "# plt.imshow(ref_DAPI, cmap='viridis', alpha=0.9, vmin=180, vmax=2000)\n",
    "# plt.imshow(moving_DAPI, cmap='Reds', alpha=0.3, vmin=180, vmax=2000)\n",
    "# plt.axis('off')"
   ]
  },
  {
   "cell_type": "code",
   "execution_count": 11,
   "metadata": {},
   "outputs": [],
   "source": [
    "ref_DAPI = ref_DAPI[:min_x, :min_y] # crop the reference image\n",
    "moving_DAPI = moving_DAPI[:min_x, :min_y] # crop the moving image"
   ]
  },
  {
   "cell_type": "code",
   "execution_count": 13,
   "metadata": {},
   "outputs": [
    {
     "data": {
      "text/plain": [
       "((3981, 4234), (3981, 4234))"
      ]
     },
     "execution_count": 13,
     "metadata": {},
     "output_type": "execute_result"
    }
   ],
   "source": [
    "ref_DAPI.shape, moving_DAPI.shape"
   ]
  },
  {
   "cell_type": "code",
   "execution_count": 14,
   "metadata": {},
   "outputs": [
    {
     "data": {
      "text/plain": [
       "<Image layer 'cropped_moving_DAPI' at 0x7f8d9d381730>"
      ]
     },
     "execution_count": 14,
     "metadata": {},
     "output_type": "execute_result"
    }
   ],
   "source": [
    "viewer.add_image(ref_DAPI, name=\"cropped_ref_DAPI\", blending=\"additive\", colormap=\"cyan\")\n",
    "viewer.add_image(moving_DAPI, name=\"cropped_moving_DAPI\", blending=\"additive\", colormap=\"magenta\")"
   ]
  },
  {
   "cell_type": "code",
   "execution_count": 21,
   "metadata": {},
   "outputs": [],
   "source": [
    "# plt.imshow(ref_DAPI, cmap='viridis', alpha=0.5, vmin=180, vmax=2000)\n",
    "# plt.imshow(moving_DAPI, cmap='Reds', alpha=0.5, vmin=180, vmax=2000)\n",
    "# plt.axis('off')"
   ]
  },
  {
   "cell_type": "markdown",
   "metadata": {},
   "source": [
    "Microaligner:\n",
    "https://github.com/VasylVaskivskyi/microaligner"
   ]
  },
  {
   "cell_type": "code",
   "execution_count": 12,
   "metadata": {},
   "outputs": [],
   "source": [
    "from microaligner import FeatureRegistrator, transform_img_with_tmat"
   ]
  },
  {
   "cell_type": "code",
   "execution_count": 13,
   "metadata": {},
   "outputs": [
    {
     "name": "stdout",
     "output_type": "stream",
     "text": [
      "Pyramid factor 8\n",
      "    Iteration 1 / 3\n",
      "    Good matches 586 / 3608\n",
      "    MI score after: 0.3104254470832193 | MI score before: 0.015309214284767185\n",
      "    Better alignment than before\n",
      "    Iteration 2 / 3\n",
      "    Good matches 820 / 2942\n",
      "    MI score after: 0.3179151056963892 | MI score before: 0.3104254470832193\n",
      "    Better alignment than before\n",
      "    Iteration 3 / 3\n",
      "    Good matches 823 / 2941\n",
      "    MI score after: 0.3173015384141411 | MI score before: 0.31840376646903895\n",
      "    Worse alignment than before\n",
      "Pyramid factor 4\n",
      "    Iteration 1 / 3\n",
      "    Good matches 1272 / 5420\n",
      "    MI score after: 0.35228797548197244 | MI score before: 0.3517624218145033\n",
      "    Better alignment than before\n",
      "    Iteration 2 / 3\n",
      "    Good matches 1256 / 5412\n",
      "    MI score after: 0.35230558977991033 | MI score before: 0.35228797548197244\n",
      "    Better alignment than before\n",
      "    Iteration 3 / 3\n",
      "    Good matches 1254 / 5439\n",
      "    MI score after: 0.345398591086782 | MI score before: 0.3521379805582333\n",
      "    Worse alignment than before\n",
      "Pyramid factor 2\n",
      "    Iteration 1 / 3\n",
      "    Good matches 1977 / 12290\n",
      "    MI score after: 0.284420375526789 | MI score before: 0.2866982297940508\n",
      "    Worse alignment than before\n",
      "    Iteration 2 / 3\n",
      "    Good matches 1964 / 12290\n",
      "    MI score after: 0.2792413060620591 | MI score before: 0.2866982297940508\n",
      "    Worse alignment than before\n",
      "    Iteration 3 / 3\n",
      "    Good matches 1963 / 12290\n",
      "    MI score after: 0.282267130537942 | MI score before: 0.2866982297940508\n",
      "    Worse alignment than before\n"
     ]
    }
   ],
   "source": [
    "# Register the images using the FeatureRegistrator\n",
    "freg = FeatureRegistrator()\n",
    "freg.ref_img = ref_DAPI.compute()\n",
    "freg.mov_img = moving_DAPI.compute()\n",
    "transformation_matrix = freg.register()\n",
    "\n",
    "img2_feature_reg_aligned = transform_img_with_tmat(moving_cyc[0].compute(), moving_cyc[0].shape, transformation_matrix)"
   ]
  },
  {
   "cell_type": "code",
   "execution_count": 15,
   "metadata": {},
   "outputs": [],
   "source": [
    "# Apply the transformation matrix to the other channels in the moving cycle\n",
    "another_feature_reg_aligned = transform_img_with_tmat(moving_cyc[1].compute(), moving_cyc[0].shape, transformation_matrix)"
   ]
  },
  {
   "cell_type": "code",
   "execution_count": 16,
   "metadata": {},
   "outputs": [
    {
     "data": {
      "text/plain": [
       "<Image layer 'aligned_cropped_moving_DAPI' at 0x7f077915ce50>"
      ]
     },
     "execution_count": 16,
     "metadata": {},
     "output_type": "execute_result"
    }
   ],
   "source": [
    "viewer.add_image(ref_DAPI, name=\"cropped_ref_DAPI\", blending=\"additive\", colormap=\"cyan\")\n",
    "viewer.add_image(img2_feature_reg_aligned, name=\"aligned_cropped_moving_DAPI\", blending=\"additive\", colormap=\"magenta\")"
   ]
  },
  {
   "cell_type": "code",
   "execution_count": 19,
   "metadata": {},
   "outputs": [],
   "source": [
    "# plt.imshow(ref_DAPI, cmap='viridis', alpha=0.9, vmin=180, vmax=2000)\n",
    "# plt.imshow(img2_feature_reg_aligned, cmap='Reds', alpha=0.3, vmin=180, vmax=2000)\n",
    "# plt.axis('off')"
   ]
  },
  {
   "cell_type": "code",
   "execution_count": 20,
   "metadata": {},
   "outputs": [
    {
     "data": {
      "text/plain": [
       "((3981, 4234), (3981, 4278))"
      ]
     },
     "execution_count": 20,
     "metadata": {},
     "output_type": "execute_result"
    }
   ],
   "source": [
    "ref_DAPI.shape, img2_feature_reg_aligned.shape"
   ]
  },
  {
   "attachments": {},
   "cell_type": "markdown",
   "metadata": {},
   "source": [
    "# Optical flow registration"
   ]
  },
  {
   "cell_type": "code",
   "execution_count": 17,
   "metadata": {},
   "outputs": [],
   "source": [
    "img2_feature_reg_aligned = img2_feature_reg_aligned[:min_x, :min_y] # crop the registered DAPI image\n",
    "another_feature_reg_aligned = another_feature_reg_aligned[:min_x, :min_y] # crop the registered Anchor image"
   ]
  },
  {
   "cell_type": "code",
   "execution_count": 18,
   "metadata": {},
   "outputs": [
    {
     "name": "stdout",
     "output_type": "stream",
     "text": [
      "Pyramid factor 16\n",
      "    MI score after: 0.25038305489844503 | MI score before: 0.24698044056989826\n",
      "    Better alignment than before\n",
      "Pyramid factor 8\n",
      "    MI score after: 0.3390639129017814 | MI score before: 0.3189287121233531\n",
      "    Better alignment than before\n",
      "Pyramid factor 4\n",
      "    MI score after: 0.40731024296778384 | MI score before: 0.35210115392152697\n",
      "    Better alignment than before\n",
      "Pyramid factor 2\n",
      "    MI score after: 0.3509688039190979 | MI score before: 0.28848665621514646\n",
      "    Better alignment than before\n"
     ]
    }
   ],
   "source": [
    "# Register image with optical flow algorithm\n",
    "from microaligner import OptFlowRegistrator, Warper \n",
    "ofreg = OptFlowRegistrator()\n",
    "ofreg.ref_img = ref_DAPI.compute()\n",
    "ofreg.mov_img = img2_feature_reg_aligned\n",
    "flow_map = ofreg.register()\n",
    "\n",
    "warper = Warper()\n",
    "warper.image = img2_feature_reg_aligned\n",
    "warper.flow = flow_map\n",
    "img2_optflow_reg_aligned = warper.warp()"
   ]
  },
  {
   "cell_type": "code",
   "execution_count": 23,
   "metadata": {},
   "outputs": [
    {
     "data": {
      "text/plain": [
       "((3981, 4234, 2), (3981, 4234))"
      ]
     },
     "execution_count": 23,
     "metadata": {},
     "output_type": "execute_result"
    }
   ],
   "source": [
    "flow_map.shape, img2_optflow_reg_aligned.shape"
   ]
  },
  {
   "cell_type": "code",
   "execution_count": 24,
   "metadata": {},
   "outputs": [
    {
     "data": {
      "text/plain": [
       "<Image layer 'opeflow_aligned_cropped_moving_DAPI' at 0x7f8d18bc6f40>"
      ]
     },
     "execution_count": 24,
     "metadata": {},
     "output_type": "execute_result"
    }
   ],
   "source": [
    "viewer.add_image(img2_optflow_reg_aligned, name=\"opeflow_aligned_cropped_moving_DAPI\", blending=\"additive\", colormap=\"magenta\")"
   ]
  },
  {
   "cell_type": "code",
   "execution_count": 22,
   "metadata": {},
   "outputs": [],
   "source": [
    "# plt.imshow(ref_DAPI, cmap='viridis', alpha=0.9, vmin=180, vmax=2000)\n",
    "# plt.imshow(img2_optflow_reg_aligned, cmap='Reds', alpha=0.3, vmin=180, vmax=2000)\n",
    "# plt.axis('off')"
   ]
  },
  {
   "attachments": {},
   "cell_type": "markdown",
   "metadata": {},
   "source": [
    "# Wrap another channel"
   ]
  },
  {
   "cell_type": "code",
   "execution_count": 25,
   "metadata": {},
   "outputs": [],
   "source": [
    "warper = Warper()\n",
    "warper.image = another_feature_reg_aligned\n",
    "warper.flow = flow_map\n",
    "another_optflow_reg_aligned = warper.warp()"
   ]
  },
  {
   "cell_type": "code",
   "execution_count": 26,
   "metadata": {},
   "outputs": [
    {
     "data": {
      "text/plain": [
       "<Image layer 'optflow_aligned_cropped_moving_spots' at 0x7f8d9f6f9130>"
      ]
     },
     "execution_count": 26,
     "metadata": {},
     "output_type": "execute_result"
    }
   ],
   "source": [
    "viewer.add_image(ref_anchor, name=\"ref_anchor_spots\", blending=\"additive\", colormap=\"cyan\")\n",
    "viewer.add_image(another_optflow_reg_aligned, name=\"optflow_aligned_cropped_moving_spots\", blending=\"additive\", colormap=\"magenta\")"
   ]
  },
  {
   "cell_type": "code",
   "execution_count": 26,
   "metadata": {},
   "outputs": [],
   "source": [
    "# plt.imshow(ref_anchor, cmap='viridis', alpha=0.9, vmin=180)\n",
    "# plt.imshow(another_optflow_reg_aligned, cmap='Greys', alpha=0.3, vmin=180, vmax=2000)\n",
    "# plt.axis('off')"
   ]
  },
  {
   "cell_type": "code",
   "execution_count": null,
   "metadata": {},
   "outputs": [],
   "source": []
  }
 ],
 "metadata": {
  "kernelspec": {
   "display_name": "EMBL_training",
   "language": "python",
   "name": "embl_training"
  },
  "language_info": {
   "codemirror_mode": {
    "name": "ipython",
    "version": 3
   },
   "file_extension": ".py",
   "mimetype": "text/x-python",
   "name": "python",
   "nbconvert_exporter": "python",
   "pygments_lexer": "ipython3",
   "version": "3.9.16"
  }
 },
 "nbformat": 4,
 "nbformat_minor": 4
}
