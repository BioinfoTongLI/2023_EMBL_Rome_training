{
 "cells": [
  {
   "cell_type": "markdown",
   "metadata": {},
   "source": [
    "# Whole notebook in a nutshell"
   ]
  },
  {
   "cell_type": "markdown",
   "metadata": {},
   "source": [
    "bash /scratch/iss_decoding/nf/workflow-decoding/local_run.sh \\\n",
    "    /scratch/tl10/decoding/decoding.yaml"
   ]
  },
  {
   "cell_type": "code",
   "execution_count": 1,
   "metadata": {},
   "outputs": [
    {
     "name": "stdout",
     "output_type": "stream",
     "text": [
      "codebook : /scratch/iss_decoding/data/decoding/in/NT_FLW mouse brain CNS codebook.xlsx\n",
      "out_dir : ./out/\n",
      "ome_tif : /scratch/iss_decoding/data/registration/out/demo_optflow_seg_optflow_reg_result_stack.tif\n",
      "channel_map : \"{'Cy5':'A','AF488':'G','Cy3':'C','Atto425':'T','AF750':'T'}\"\n",
      "rna_spot_size : [5]\n",
      "anchor_ch_indexes : 1\n",
      "prob_threshold : 0.9\n",
      "trackpy_percentile : [99, 98]\n",
      "trackpy_separation : 3\n",
      "codebook_sep : ','\n",
      "\n",
      "bf2raw_sif : '/scratch/iss_decoding/sifs/bf2raw-0.4.0.sif'\n",
      "gmm_sif : '/scratch/iss_decoding/sifs/gmm_decode.sif'\n"
     ]
    }
   ],
   "source": [
    "! cat /scratch/tl10/decoding/decoding.yaml"
   ]
  },
  {
   "cell_type": "markdown",
   "metadata": {},
   "source": [
    "# Or step by step ..."
   ]
  },
  {
   "cell_type": "code",
   "execution_count": 3,
   "metadata": {},
   "outputs": [
    {
     "name": "stdout",
     "output_type": "stream",
     "text": [
      "Using cucim\n"
     ]
    }
   ],
   "source": [
    "# import tifffile as tf\n",
    "from dask_image.imread import imread\n",
    "import matplotlib.pyplot as plt\n",
    "use_gpu = True\n",
    "if use_gpu:\n",
    "    from cucim.skimage.morphology import white_tophat, disk\n",
    "    import cupy as xp\n",
    "    print(\"Using cucim\")\n",
    "else:\n",
    "    from skimage.morphology import white_tophat, disk\n",
    "    import numpy as xp\n",
    "    print(\"Using skimage\")\n",
    "from tqdm import tqdm"
   ]
  },
  {
   "cell_type": "code",
   "execution_count": 8,
   "metadata": {},
   "outputs": [],
   "source": [
    "root = \"/scratch/iss_decoding/workshop_data/decoding/\"\n",
    "out_dir = \"./out\""
   ]
  },
  {
   "cell_type": "code",
   "execution_count": 5,
   "metadata": {},
   "outputs": [
    {
     "name": "stdout",
     "output_type": "stream",
     "text": [
      "mkdir: cannot create directory ‘./out’: File exists\n"
     ]
    }
   ],
   "source": [
    "! mkdir {out_dir}"
   ]
  },
  {
   "cell_type": "code",
   "execution_count": 6,
   "metadata": {},
   "outputs": [],
   "source": [
    "# Lazily load the image\n",
    "registered_stack = imread(f\"{root}/in/demo_optflow_seg_optflow_reg_result_stack.tif\")"
   ]
  },
  {
   "cell_type": "code",
   "execution_count": 7,
   "metadata": {},
   "outputs": [
    {
     "data": {
      "text/plain": [
       "(35, 4114, 4369)"
      ]
     },
     "execution_count": 7,
     "metadata": {},
     "output_type": "execute_result"
    }
   ],
   "source": [
    "registered_stack.shape # (c, y, x), 35 channels of 4114 * 4369 images"
   ]
  },
  {
   "cell_type": "code",
   "execution_count": 8,
   "metadata": {},
   "outputs": [
    {
     "name": "stdout",
     "output_type": "stream",
     "text": [
      "Anchor image shape:  (4114, 4369)\n",
      "Channel 1-5 are empty channels, not used for decoding\n",
      "Coding image shape:  (24, 4114, 4369)\n"
     ]
    }
   ],
   "source": [
    "anchor_ch = registered_stack[1]\n",
    "anchor_ch\n",
    "print(\"Anchor image shape: \", anchor_ch.shape)\n",
    "print(\"Channel 1-4 are empty channels, not used for decoding\")\n",
    "coding_chs = registered_stack[\n",
    "    [6,7,8,9,\n",
    "     11,12,13,14,\n",
    "     16,17,18,19,\n",
    "     21,22,23,24,\n",
    "     26,27,28,29,\n",
    "     31,32,33,34]]\n",
    "print(\"Coding image shape: \", coding_chs.shape)"
   ]
  },
  {
   "cell_type": "code",
   "execution_count": 9,
   "metadata": {},
   "outputs": [],
   "source": [
    "import napari"
   ]
  },
  {
   "cell_type": "code",
   "execution_count": 10,
   "metadata": {},
   "outputs": [
    {
     "name": "stderr",
     "output_type": "stream",
     "text": [
      "WARNING: QStandardPaths: error creating runtime directory '/run/user/1386' (Read-only file system)\n",
      "WARNING: Qt: Session management error: None of the authentication protocols specified are supported\n"
     ]
    }
   ],
   "source": [
    "viewer = napari.Viewer()"
   ]
  },
  {
   "cell_type": "code",
   "execution_count": 11,
   "metadata": {},
   "outputs": [
    {
     "data": {
      "text/plain": [
       "<Image layer 'registered_stack' at 0x7fdaf77fddf0>"
      ]
     },
     "execution_count": 11,
     "metadata": {},
     "output_type": "execute_result"
    }
   ],
   "source": [
    "viewer.add_image(registered_stack)"
   ]
  },
  {
   "cell_type": "code",
   "execution_count": 22,
   "metadata": {},
   "outputs": [],
   "source": [
    "spot_diam = 5 # manually count the spot diameter. Roughly 5 pixels."
   ]
  },
  {
   "cell_type": "code",
   "execution_count": 23,
   "metadata": {},
   "outputs": [],
   "source": [
    "selem=disk(spot_diam/2) # Create the kernel for white tophat filtering"
   ]
  },
  {
   "cell_type": "code",
   "execution_count": 24,
   "metadata": {},
   "outputs": [
    {
     "data": {
      "text/plain": [
       "array([[0, 0, 0, 0, 0, 0],\n",
       "       [0, 1, 1, 1, 1, 0],\n",
       "       [0, 1, 1, 1, 1, 0],\n",
       "       [0, 1, 1, 1, 1, 0],\n",
       "       [0, 1, 1, 1, 1, 0],\n",
       "       [0, 0, 0, 0, 0, 0]], dtype=uint8)"
      ]
     },
     "execution_count": 24,
     "metadata": {},
     "output_type": "execute_result"
    }
   ],
   "source": [
    "selem # TODO: Napari vis."
   ]
  },
  {
   "cell_type": "code",
   "execution_count": 15,
   "metadata": {},
   "outputs": [
    {
     "data": {
      "text/plain": [
       "<Image layer 'kernel' at 0x7fda1819d3d0>"
      ]
     },
     "execution_count": 15,
     "metadata": {},
     "output_type": "execute_result"
    }
   ],
   "source": [
    "viewer.add_image(selem.get(), name=\"kernel\")"
   ]
  },
  {
   "cell_type": "code",
   "execution_count": 16,
   "metadata": {},
   "outputs": [
    {
     "name": "stderr",
     "output_type": "stream",
     "text": [
      "100%|██████████| 24/24 [00:02<00:00,  8.15it/s]\n"
     ]
    }
   ],
   "source": [
    "enhancded = []\n",
    "for ch in tqdm(coding_chs): # Run the white tophat filter on all coding channels\n",
    "    enhancded.append(white_tophat(xp.array(ch), footprint=selem))"
   ]
  },
  {
   "cell_type": "code",
   "execution_count": 17,
   "metadata": {},
   "outputs": [],
   "source": [
    "enhanced_stack = xp.array(enhancded)"
   ]
  },
  {
   "cell_type": "code",
   "execution_count": 25,
   "metadata": {},
   "outputs": [
    {
     "data": {
      "text/plain": [
       "<Image layer 'enhanced_stack [1]' at 0x7fdb77511e50>"
      ]
     },
     "execution_count": 25,
     "metadata": {},
     "output_type": "execute_result"
    }
   ],
   "source": [
    "viewer.add_image(enhanced_stack.get(), name=\"enhanced_stack\")"
   ]
  },
  {
   "cell_type": "code",
   "execution_count": 26,
   "metadata": {},
   "outputs": [],
   "source": [
    "enhancded_anchor = white_tophat(xp.array(anchor_ch), footprint=selem) # Run the white tophat filter on the anchor channel"
   ]
  },
  {
   "cell_type": "code",
   "execution_count": 27,
   "metadata": {},
   "outputs": [
    {
     "data": {
      "text/plain": [
       "<Image layer 'enhanced_anchor_channel' at 0x7fdb76a86b50>"
      ]
     },
     "execution_count": 27,
     "metadata": {},
     "output_type": "execute_result"
    }
   ],
   "source": [
    "viewer.add_image(enhancded_anchor.get(), name=\"enhanced_anchor_channel\")"
   ]
  },
  {
   "cell_type": "code",
   "execution_count": 3,
   "metadata": {},
   "outputs": [],
   "source": [
    "import trackpy as tp\n",
    "import numpy as np"
   ]
  },
  {
   "cell_type": "code",
   "execution_count": 4,
   "metadata": {},
   "outputs": [
    {
     "ename": "NameError",
     "evalue": "name 'enhancded_anchor' is not defined",
     "output_type": "error",
     "traceback": [
      "\u001b[0;31m---------------------------------------------------------------------------\u001b[0m",
      "\u001b[0;31mNameError\u001b[0m                                 Traceback (most recent call last)",
      "Cell \u001b[0;32mIn[4], line 1\u001b[0m\n\u001b[0;32m----> 1\u001b[0m spots \u001b[38;5;241m=\u001b[39m tp\u001b[38;5;241m.\u001b[39mlocate(np\u001b[38;5;241m.\u001b[39marray(\u001b[43menhancded_anchor\u001b[49m\u001b[38;5;241m.\u001b[39mget()), spot_diam, separation\u001b[38;5;241m=\u001b[39m\u001b[38;5;241m3\u001b[39m, percentile\u001b[38;5;241m=\u001b[39m\u001b[38;5;241m95\u001b[39m) \u001b[38;5;66;03m# Find the spots in the anchor channel\u001b[39;00m\n",
      "\u001b[0;31mNameError\u001b[0m: name 'enhancded_anchor' is not defined"
     ]
    }
   ],
   "source": [
    "spots = tp.locate(np.array(enhancded_anchor.get()), spot_diam, separation=3, percentile=95) # Find the spots in the anchor channel"
   ]
  },
  {
   "cell_type": "code",
   "execution_count": null,
   "metadata": {},
   "outputs": [],
   "source": [
    "spots"
   ]
  },
  {
   "cell_type": "code",
   "execution_count": 35,
   "metadata": {},
   "outputs": [
    {
     "data": {
      "text/plain": [
       "<Points layer 'all_RNA_spots' at 0x7fd9a86ea1c0>"
      ]
     },
     "execution_count": 35,
     "metadata": {},
     "output_type": "execute_result"
    }
   ],
   "source": [
    "viewer.add_points(spots[['y', 'x']], face_color=\"red\", opacity=0.5, name=\"all_RNA_spots\")"
   ]
  },
  {
   "cell_type": "code",
   "execution_count": 36,
   "metadata": {},
   "outputs": [],
   "source": [
    "spots[\"x_int\"] = spots[\"x\"].astype(int)\n",
    "spots[\"y_int\"] = spots[\"y\"].astype(int)"
   ]
  },
  {
   "cell_type": "code",
   "execution_count": 37,
   "metadata": {},
   "outputs": [],
   "source": [
    "spots.to_csv(f\"{out_dir}/demo_optflow_seg_optflow_reg_result_stack_spots.csv\",\n",
    "            index=False)"
   ]
  },
  {
   "cell_type": "code",
   "execution_count": 38,
   "metadata": {},
   "outputs": [
    {
     "data": {
      "text/plain": [
       "(24, 4114, 4369)"
      ]
     },
     "execution_count": 38,
     "metadata": {},
     "output_type": "execute_result"
    }
   ],
   "source": [
    "enhanced_stack.shape"
   ]
  },
  {
   "cell_type": "code",
   "execution_count": 39,
   "metadata": {},
   "outputs": [],
   "source": [
    "peak_profiles = enhanced_stack[:, spots[\"y_int\"], spots[\"x_int\"]]"
   ]
  },
  {
   "cell_type": "code",
   "execution_count": 40,
   "metadata": {},
   "outputs": [
    {
     "data": {
      "text/plain": [
       "(24, 69323)"
      ]
     },
     "execution_count": 40,
     "metadata": {},
     "output_type": "execute_result"
    }
   ],
   "source": [
    "peak_profiles.shape"
   ]
  },
  {
   "cell_type": "code",
   "execution_count": 41,
   "metadata": {},
   "outputs": [],
   "source": [
    "reshaped_profiles = peak_profiles.reshape((4, 6, peak_profiles.shape[1])) # Reshape the peak profiles into a 4 barcodes * 6 cycles * 35 channels array"
   ]
  },
  {
   "cell_type": "code",
   "execution_count": 29,
   "metadata": {},
   "outputs": [
    {
     "data": {
      "text/plain": [
       "(4, 6, 32243)"
      ]
     },
     "execution_count": 29,
     "metadata": {},
     "output_type": "execute_result"
    }
   ],
   "source": [
    "reshaped_profiles.shape"
   ]
  },
  {
   "cell_type": "code",
   "execution_count": 43,
   "metadata": {},
   "outputs": [
    {
     "data": {
      "text/plain": [
       "array([[ 0,  3,  0,  5,  0,  0],\n",
       "       [ 0,  6, 60,  5,  1,  4],\n",
       "       [ 0, 22,  4,  0, 31,  3],\n",
       "       [ 0,  2,  0,  7,  2,  3]], dtype=uint16)"
      ]
     },
     "execution_count": 43,
     "metadata": {},
     "output_type": "execute_result"
    }
   ],
   "source": [
    "first_profile = reshaped_profiles[:,:,1000]\n",
    "first_profile"
   ]
  },
  {
   "cell_type": "code",
   "execution_count": 44,
   "metadata": {},
   "outputs": [
    {
     "data": {
      "text/plain": [
       "array([0, 2, 1, 3, 2, 1], dtype=int64)"
      ]
     },
     "execution_count": 44,
     "metadata": {},
     "output_type": "execute_result"
    }
   ],
   "source": [
    "# Ont-hot encoding\n",
    "first_profile.argmax(axis=0)"
   ]
  },
  {
   "cell_type": "code",
   "execution_count": 45,
   "metadata": {},
   "outputs": [],
   "source": [
    "np.save(\n",
    "    f\"{out_dir}/demo_optflow_seg_optflow_reg_result_stack_peak_profiles.npy\",\n",
    "    np.transpose(reshaped_profiles, (2, 0, 1)).astype(np.int32),\n",
    "    allow_pickle=True\n",
    ")"
   ]
  },
  {
   "attachments": {},
   "cell_type": "markdown",
   "metadata": {},
   "source": [
    "# Decoding - Codebook preprocessing"
   ]
  },
  {
   "cell_type": "code",
   "execution_count": 46,
   "metadata": {},
   "outputs": [],
   "source": [
    "import bin.codebook_convert as cc\n",
    "import bin.reading_data_functions as rdf\n",
    "import bin.decode as dc\n",
    "import pickle\n",
    "import numpy as np"
   ]
  },
  {
   "cell_type": "code",
   "execution_count": 47,
   "metadata": {},
   "outputs": [
    {
     "name": "stdout",
     "output_type": "stream",
     "text": [
      "OrderedDict([('Cy5', 'A'), ('AF488', 'G'), ('Cy3', 'C'), ('Atto425', 'T'), ('AF750', 'T')])\n",
      "  nCycles nChannel    DAPI Cy5 AF488 Cy3 Atto425\n",
      "0       6        5  nuclei   A     G   C       T\n",
      "       Gene Channel\n",
      "0      Ache  ACTTGA\n",
      "1     Acta2  GTATCC\n",
      "2     Aldoc  CCCATT\n",
      "3      Bdnf  TTCGTC\n",
      "4     Calca  AAACGT\n",
      "5      Chat  CATAGG\n",
      "6       Dcn  ATTCAG\n",
      "7       Fev  TGCGAT\n",
      "8       Fos  CTGCAC\n",
      "9      Gad1  GTTTGA\n",
      "10     Gad2  GATTCA\n",
      "11     Gfap  ACAGCG\n",
      "12     Gja1  CACTAT\n",
      "13    Itgam  CTCGCG\n",
      "14    Kcnj8  AGAGAT\n",
      "15   Laptm5  CGTTAT\n",
      "16     Map2  TCTTTG\n",
      "17      Mbp  GCTCAC\n",
      "18     Ndnf  CTACGT\n",
      "19     Nefh  GCAATT\n",
      "20  Neurod1  ATCCGA\n",
      "21      Npy  ACCTAT\n",
      "22    Npy2r  GTCCAC\n",
      "23    Ntrk2  GGCGCA\n",
      "24      Oxt  AGTGCT\n",
      "25    P2rx3  CGAATT\n",
      "26     Pcp4  CCTTCG\n",
      "27     Pdyn  CGGACA\n",
      "28     Plp1  ACGGTC\n",
      "29    Ptprc  CAGCTC\n",
      "30    Pvalb  ATGCCC\n",
      "31   Rbfox3  GAGTGA\n",
      "32  Slc17a6  GCGTCG\n",
      "33  Slc17a7  TTTACA\n",
      "34   Slc6a1  TACAGC\n",
      "35   Slc6a3  TGAACC\n",
      "36   Slc6a4  CTTCTG\n",
      "37   Slc6a5  CCGTGG\n",
      "38     Sncg  CAAACG\n",
      "39     Spp1  CGCGGA\n",
      "40      Sst  GGTCTG\n",
      "41     Syn1  GTGGTC\n",
      "42       Th  TTATAC\n",
      "43     Tph1  AATATG\n",
      "44      Trh  CCATAA\n",
      "45    Trpv1  GGAAGC\n",
      "46    Tubb3  TGTCGA\n",
      "47      Vip  TATGAT\n"
     ]
    }
   ],
   "source": [
    "codebook_p = cc.main(f\"{root}/in/NT_FLW mouse brain CNS codebook.xlsx\", out_dir=f\"{out_dir}/\")"
   ]
  },
  {
   "cell_type": "code",
   "execution_count": 48,
   "metadata": {},
   "outputs": [],
   "source": [
    "barcodes_01, K, R, C, gene_names, channels_info = rdf.read_taglist_and_channel_info(\n",
    "        f\"{out_dir}/\",\n",
    "        taglist_name=\"taglist.csv\",\n",
    "        channel_info_name=\"channel_info.csv\",\n",
    ")"
   ]
  },
  {
   "cell_type": "code",
   "execution_count": 49,
   "metadata": {},
   "outputs": [
    {
     "name": "stdout",
     "output_type": "stream",
     "text": [
      "{'barcodes_AGCT': array(['ACTTGA', 'GTATCC', 'CCCATT', 'TTCGTC', 'AAACGT', 'CATAGG',\n",
      "       'ATTCAG', 'TGCGAT', 'CTGCAC', 'GTTTGA', 'GATTCA', 'ACAGCG',\n",
      "       'CACTAT', 'CTCGCG', 'AGAGAT', 'CGTTAT', 'TCTTTG', 'GCTCAC',\n",
      "       'CTACGT', 'GCAATT', 'ATCCGA', 'ACCTAT', 'GTCCAC', 'GGCGCA',\n",
      "       'AGTGCT', 'CGAATT', 'CCTTCG', 'CGGACA', 'ACGGTC', 'CAGCTC',\n",
      "       'ATGCCC', 'GAGTGA', 'GCGTCG', 'TTTACA', 'TACAGC', 'TGAACC',\n",
      "       'CTTCTG', 'CCGTGG', 'CAAACG', 'CGCGGA', 'GGTCTG', 'GTGGTC',\n",
      "       'TTATAC', 'AATATG', 'CCATAA', 'GGAAGC', 'TGTCGA', 'TATGAT'],\n",
      "      dtype=object), 'coding_chs': [False, True, True, True, True], 'channel_base': ['nuclei', 'A', 'G', 'C', 'T'], 'channel_names': ['DAPI', 'Cy5', 'AF488', 'Cy3', 'Atto425'], 'K': 48, 'R': 6, 'C': 4}\n"
     ]
    }
   ],
   "source": [
    "np.save(f\"{out_dir}/barcodes_01.npy\", barcodes_01)\n",
    "np.save(f\"{out_dir}/gene_names.npy\", gene_names)\n",
    "channels_info[\"K\"] = K\n",
    "channels_info[\"R\"] = R\n",
    "channels_info[\"C\"] = C\n",
    "print(channels_info)\n",
    "with open(f\"{out_dir}/channel_info.pickle\", \"wb\") as fp:\n",
    "    pickle.dump(channels_info, fp)"
   ]
  },
  {
   "cell_type": "code",
   "execution_count": null,
   "metadata": {},
   "outputs": [
    {
     "name": "stdout",
     "output_type": "stream",
     "text": [
      "(69323, 4, 6)                        x          mass      size       ecc       signal  \\\n",
      "y                                                                         \n",
      "1.811746      153.978805   3244.690741  1.108477  0.238506   647.940118   \n",
      "1.663028      158.088624   1557.239474  1.172487  0.505696   306.894381   \n",
      "2.325531      268.008340    579.637405  1.226007  0.438635   101.362473   \n",
      "1.970572      293.804188    551.099970  1.371346  0.713368   102.298127   \n",
      "2.093709      311.700856   1549.286419  1.116964  0.305634   297.381902   \n",
      "...                  ...           ...       ...       ...          ...   \n",
      "4110.521897  1805.929931    516.324845  1.361884  0.449990   155.162555   \n",
      "4111.186558  1818.722526   2078.866356  1.158376  0.354676   374.105498   \n",
      "4110.787751  1988.926367    667.121017  1.173277  0.416416   113.370028   \n",
      "4110.975786  3309.609737   1210.735758  1.157263  0.393646   218.631058   \n",
      "4111.084381  3455.877532  11476.571112  1.159388  0.417885  2162.919238   \n",
      "\n",
      "             raw_mass        ep  x_int  y_int  \n",
      "y                                              \n",
      "1.811746      19205.0  0.008554    153      1  \n",
      "1.663028       8705.0  0.018893    158      1  \n",
      "2.325531       3578.0  0.046093    268      2  \n",
      "1.970572       3544.0  0.046537    293      1  \n",
      "2.093709       8278.0  0.019869    311      2  \n",
      "...               ...       ...    ...    ...  \n",
      "4110.521897    4280.0  0.038503   1805   4110  \n",
      "4111.186558   10968.0  0.014989   1818   4111  \n",
      "4110.787751    4404.0  0.037415   1988   4110  \n",
      "4110.975786    6533.0  0.025190   3309   4110  \n",
      "4111.084381   62825.0  0.002613   3455   4111  \n",
      "\n",
      "[69323 rows x 9 columns]\n",
      "['Ache' 'Acta2' 'Aldoc' 'Bdnf' 'Calca' 'Chat' 'Dcn' 'Fev' 'Fos' 'Gad1'\n",
      " 'Gad2' 'Gfap' 'Gja1' 'Itgam' 'Kcnj8' 'Laptm5' 'Map2' 'Mbp' 'Ndnf' 'Nefh'\n",
      " 'Neurod1' 'Npy' 'Npy2r' 'Ntrk2' 'Oxt' 'P2rx3' 'Pcp4' 'Pdyn' 'Plp1'\n",
      " 'Ptprc' 'Pvalb' 'Rbfox3' 'Slc17a6' 'Slc17a7' 'Slc6a1' 'Slc6a3' 'Slc6a4'\n",
      " 'Slc6a5' 'Sncg' 'Spp1' 'Sst' 'Syn1' 'Th' 'Tph1' 'Trh' 'Trpv1' 'Tubb3'\n",
      " 'Vip' 'infeasible' 'background' 'nan']\n"
     ]
    }
   ],
   "source": [
    "dc.decode(\n",
    "    \"EMBL_training_mouse_brain\",\n",
    "    f\"{out_dir}/demo_optflow_seg_optflow_reg_result_stack_peak_profiles.npy\",\n",
    "    f\"{out_dir}/demo_optflow_seg_optflow_reg_result_stack_spots.csv\",\n",
    "    f\"{out_dir}/barcodes_01.npy\", f\"{out_dir}/gene_names.npy\", f\"{out_dir}/channel_info.pickle\",\n",
    "    out_dir=f\"{out_dir}\"\n",
    ")"
   ]
  },
  {
   "cell_type": "code",
   "execution_count": 38,
   "metadata": {},
   "outputs": [],
   "source": [
    "root = \"/scratch/iss_decoding/workshop_data/decoding/\"\n",
    "out_dir = \"./out\""
   ]
  },
  {
   "cell_type": "code",
   "execution_count": 39,
   "metadata": {},
   "outputs": [
    {
     "name": "stdout",
     "output_type": "stream",
     "text": [
      "EMBL_training_mouse_brain_decode_out_parameters.pickle\n",
      "EMBL_training_mouse_brain_decoded_df.tsv\n",
      "barcodes_01.npy\n",
      "channel_info.csv\n",
      "channel_info.pickle\n",
      "demo_optflow_seg_optflow_reg_result_stack_peak_profiles.npy\n",
      "demo_optflow_seg_optflow_reg_result_stack_spots.csv\n",
      "gene_names.npy\n",
      "taglist.csv\n"
     ]
    }
   ],
   "source": [
    " ! ls {out_dir}"
   ]
  },
  {
   "attachments": {},
   "cell_type": "markdown",
   "metadata": {},
   "source": [
    "# Visual QC of the decoded data"
   ]
  },
  {
   "cell_type": "code",
   "execution_count": 5,
   "metadata": {},
   "outputs": [],
   "source": [
    "import pandas as pd\n",
    "import napari"
   ]
  },
  {
   "cell_type": "code",
   "execution_count": 6,
   "metadata": {},
   "outputs": [
    {
     "name": "stderr",
     "output_type": "stream",
     "text": [
      "WARNING: QStandardPaths: error creating runtime directory '/run/user/1386' (Read-only file system)\n",
      "WARNING: Qt: Session management error: None of the authentication protocols specified are supported\n"
     ]
    }
   ],
   "source": [
    "viewer = napari.Viewer()"
   ]
  },
  {
   "cell_type": "code",
   "execution_count": 9,
   "metadata": {},
   "outputs": [
    {
     "ename": "FileNotFoundError",
     "evalue": "[Errno 2] No such file or directory: './out/EMBL_training_mouse_brain_decoded_df.tsv'",
     "output_type": "error",
     "traceback": [
      "\u001b[0;31m---------------------------------------------------------------------------\u001b[0m",
      "\u001b[0;31mFileNotFoundError\u001b[0m                         Traceback (most recent call last)",
      "Cell \u001b[0;32mIn[9], line 1\u001b[0m\n\u001b[0;32m----> 1\u001b[0m decoded_peaks \u001b[38;5;241m=\u001b[39m \u001b[43mpd\u001b[49m\u001b[38;5;241;43m.\u001b[39;49m\u001b[43mread_csv\u001b[49m\u001b[43m(\u001b[49m\u001b[38;5;124;43mf\u001b[39;49m\u001b[38;5;124;43m\"\u001b[39;49m\u001b[38;5;132;43;01m{\u001b[39;49;00m\u001b[43mout_dir\u001b[49m\u001b[38;5;132;43;01m}\u001b[39;49;00m\u001b[38;5;124;43m/EMBL_training_mouse_brain_decoded_df.tsv\u001b[39;49m\u001b[38;5;124;43m\"\u001b[39;49m\u001b[43m,\u001b[49m\u001b[43m \u001b[49m\u001b[43msep\u001b[49m\u001b[38;5;241;43m=\u001b[39;49m\u001b[38;5;124;43m\"\u001b[39;49m\u001b[38;5;130;43;01m\\t\u001b[39;49;00m\u001b[38;5;124;43m\"\u001b[39;49m\u001b[43m)\u001b[49m\n",
      "File \u001b[0;32m/opt/conda/envs/EMBL_training/lib/python3.9/site-packages/pandas/io/parsers/readers.py:912\u001b[0m, in \u001b[0;36mread_csv\u001b[0;34m(filepath_or_buffer, sep, delimiter, header, names, index_col, usecols, dtype, engine, converters, true_values, false_values, skipinitialspace, skiprows, skipfooter, nrows, na_values, keep_default_na, na_filter, verbose, skip_blank_lines, parse_dates, infer_datetime_format, keep_date_col, date_parser, date_format, dayfirst, cache_dates, iterator, chunksize, compression, thousands, decimal, lineterminator, quotechar, quoting, doublequote, escapechar, comment, encoding, encoding_errors, dialect, on_bad_lines, delim_whitespace, low_memory, memory_map, float_precision, storage_options, dtype_backend)\u001b[0m\n\u001b[1;32m    899\u001b[0m kwds_defaults \u001b[38;5;241m=\u001b[39m _refine_defaults_read(\n\u001b[1;32m    900\u001b[0m     dialect,\n\u001b[1;32m    901\u001b[0m     delimiter,\n\u001b[0;32m   (...)\u001b[0m\n\u001b[1;32m    908\u001b[0m     dtype_backend\u001b[38;5;241m=\u001b[39mdtype_backend,\n\u001b[1;32m    909\u001b[0m )\n\u001b[1;32m    910\u001b[0m kwds\u001b[38;5;241m.\u001b[39mupdate(kwds_defaults)\n\u001b[0;32m--> 912\u001b[0m \u001b[38;5;28;01mreturn\u001b[39;00m \u001b[43m_read\u001b[49m\u001b[43m(\u001b[49m\u001b[43mfilepath_or_buffer\u001b[49m\u001b[43m,\u001b[49m\u001b[43m \u001b[49m\u001b[43mkwds\u001b[49m\u001b[43m)\u001b[49m\n",
      "File \u001b[0;32m/opt/conda/envs/EMBL_training/lib/python3.9/site-packages/pandas/io/parsers/readers.py:577\u001b[0m, in \u001b[0;36m_read\u001b[0;34m(filepath_or_buffer, kwds)\u001b[0m\n\u001b[1;32m    574\u001b[0m _validate_names(kwds\u001b[38;5;241m.\u001b[39mget(\u001b[38;5;124m\"\u001b[39m\u001b[38;5;124mnames\u001b[39m\u001b[38;5;124m\"\u001b[39m, \u001b[38;5;28;01mNone\u001b[39;00m))\n\u001b[1;32m    576\u001b[0m \u001b[38;5;66;03m# Create the parser.\u001b[39;00m\n\u001b[0;32m--> 577\u001b[0m parser \u001b[38;5;241m=\u001b[39m \u001b[43mTextFileReader\u001b[49m\u001b[43m(\u001b[49m\u001b[43mfilepath_or_buffer\u001b[49m\u001b[43m,\u001b[49m\u001b[43m \u001b[49m\u001b[38;5;241;43m*\u001b[39;49m\u001b[38;5;241;43m*\u001b[39;49m\u001b[43mkwds\u001b[49m\u001b[43m)\u001b[49m\n\u001b[1;32m    579\u001b[0m \u001b[38;5;28;01mif\u001b[39;00m chunksize \u001b[38;5;129;01mor\u001b[39;00m iterator:\n\u001b[1;32m    580\u001b[0m     \u001b[38;5;28;01mreturn\u001b[39;00m parser\n",
      "File \u001b[0;32m/opt/conda/envs/EMBL_training/lib/python3.9/site-packages/pandas/io/parsers/readers.py:1407\u001b[0m, in \u001b[0;36mTextFileReader.__init__\u001b[0;34m(self, f, engine, **kwds)\u001b[0m\n\u001b[1;32m   1404\u001b[0m     \u001b[38;5;28mself\u001b[39m\u001b[38;5;241m.\u001b[39moptions[\u001b[38;5;124m\"\u001b[39m\u001b[38;5;124mhas_index_names\u001b[39m\u001b[38;5;124m\"\u001b[39m] \u001b[38;5;241m=\u001b[39m kwds[\u001b[38;5;124m\"\u001b[39m\u001b[38;5;124mhas_index_names\u001b[39m\u001b[38;5;124m\"\u001b[39m]\n\u001b[1;32m   1406\u001b[0m \u001b[38;5;28mself\u001b[39m\u001b[38;5;241m.\u001b[39mhandles: IOHandles \u001b[38;5;241m|\u001b[39m \u001b[38;5;28;01mNone\u001b[39;00m \u001b[38;5;241m=\u001b[39m \u001b[38;5;28;01mNone\u001b[39;00m\n\u001b[0;32m-> 1407\u001b[0m \u001b[38;5;28mself\u001b[39m\u001b[38;5;241m.\u001b[39m_engine \u001b[38;5;241m=\u001b[39m \u001b[38;5;28;43mself\u001b[39;49m\u001b[38;5;241;43m.\u001b[39;49m\u001b[43m_make_engine\u001b[49m\u001b[43m(\u001b[49m\u001b[43mf\u001b[49m\u001b[43m,\u001b[49m\u001b[43m \u001b[49m\u001b[38;5;28;43mself\u001b[39;49m\u001b[38;5;241;43m.\u001b[39;49m\u001b[43mengine\u001b[49m\u001b[43m)\u001b[49m\n",
      "File \u001b[0;32m/opt/conda/envs/EMBL_training/lib/python3.9/site-packages/pandas/io/parsers/readers.py:1661\u001b[0m, in \u001b[0;36mTextFileReader._make_engine\u001b[0;34m(self, f, engine)\u001b[0m\n\u001b[1;32m   1659\u001b[0m     \u001b[38;5;28;01mif\u001b[39;00m \u001b[38;5;124m\"\u001b[39m\u001b[38;5;124mb\u001b[39m\u001b[38;5;124m\"\u001b[39m \u001b[38;5;129;01mnot\u001b[39;00m \u001b[38;5;129;01min\u001b[39;00m mode:\n\u001b[1;32m   1660\u001b[0m         mode \u001b[38;5;241m+\u001b[39m\u001b[38;5;241m=\u001b[39m \u001b[38;5;124m\"\u001b[39m\u001b[38;5;124mb\u001b[39m\u001b[38;5;124m\"\u001b[39m\n\u001b[0;32m-> 1661\u001b[0m \u001b[38;5;28mself\u001b[39m\u001b[38;5;241m.\u001b[39mhandles \u001b[38;5;241m=\u001b[39m \u001b[43mget_handle\u001b[49m\u001b[43m(\u001b[49m\n\u001b[1;32m   1662\u001b[0m \u001b[43m    \u001b[49m\u001b[43mf\u001b[49m\u001b[43m,\u001b[49m\n\u001b[1;32m   1663\u001b[0m \u001b[43m    \u001b[49m\u001b[43mmode\u001b[49m\u001b[43m,\u001b[49m\n\u001b[1;32m   1664\u001b[0m \u001b[43m    \u001b[49m\u001b[43mencoding\u001b[49m\u001b[38;5;241;43m=\u001b[39;49m\u001b[38;5;28;43mself\u001b[39;49m\u001b[38;5;241;43m.\u001b[39;49m\u001b[43moptions\u001b[49m\u001b[38;5;241;43m.\u001b[39;49m\u001b[43mget\u001b[49m\u001b[43m(\u001b[49m\u001b[38;5;124;43m\"\u001b[39;49m\u001b[38;5;124;43mencoding\u001b[39;49m\u001b[38;5;124;43m\"\u001b[39;49m\u001b[43m,\u001b[49m\u001b[43m \u001b[49m\u001b[38;5;28;43;01mNone\u001b[39;49;00m\u001b[43m)\u001b[49m\u001b[43m,\u001b[49m\n\u001b[1;32m   1665\u001b[0m \u001b[43m    \u001b[49m\u001b[43mcompression\u001b[49m\u001b[38;5;241;43m=\u001b[39;49m\u001b[38;5;28;43mself\u001b[39;49m\u001b[38;5;241;43m.\u001b[39;49m\u001b[43moptions\u001b[49m\u001b[38;5;241;43m.\u001b[39;49m\u001b[43mget\u001b[49m\u001b[43m(\u001b[49m\u001b[38;5;124;43m\"\u001b[39;49m\u001b[38;5;124;43mcompression\u001b[39;49m\u001b[38;5;124;43m\"\u001b[39;49m\u001b[43m,\u001b[49m\u001b[43m \u001b[49m\u001b[38;5;28;43;01mNone\u001b[39;49;00m\u001b[43m)\u001b[49m\u001b[43m,\u001b[49m\n\u001b[1;32m   1666\u001b[0m \u001b[43m    \u001b[49m\u001b[43mmemory_map\u001b[49m\u001b[38;5;241;43m=\u001b[39;49m\u001b[38;5;28;43mself\u001b[39;49m\u001b[38;5;241;43m.\u001b[39;49m\u001b[43moptions\u001b[49m\u001b[38;5;241;43m.\u001b[39;49m\u001b[43mget\u001b[49m\u001b[43m(\u001b[49m\u001b[38;5;124;43m\"\u001b[39;49m\u001b[38;5;124;43mmemory_map\u001b[39;49m\u001b[38;5;124;43m\"\u001b[39;49m\u001b[43m,\u001b[49m\u001b[43m \u001b[49m\u001b[38;5;28;43;01mFalse\u001b[39;49;00m\u001b[43m)\u001b[49m\u001b[43m,\u001b[49m\n\u001b[1;32m   1667\u001b[0m \u001b[43m    \u001b[49m\u001b[43mis_text\u001b[49m\u001b[38;5;241;43m=\u001b[39;49m\u001b[43mis_text\u001b[49m\u001b[43m,\u001b[49m\n\u001b[1;32m   1668\u001b[0m \u001b[43m    \u001b[49m\u001b[43merrors\u001b[49m\u001b[38;5;241;43m=\u001b[39;49m\u001b[38;5;28;43mself\u001b[39;49m\u001b[38;5;241;43m.\u001b[39;49m\u001b[43moptions\u001b[49m\u001b[38;5;241;43m.\u001b[39;49m\u001b[43mget\u001b[49m\u001b[43m(\u001b[49m\u001b[38;5;124;43m\"\u001b[39;49m\u001b[38;5;124;43mencoding_errors\u001b[39;49m\u001b[38;5;124;43m\"\u001b[39;49m\u001b[43m,\u001b[49m\u001b[43m \u001b[49m\u001b[38;5;124;43m\"\u001b[39;49m\u001b[38;5;124;43mstrict\u001b[39;49m\u001b[38;5;124;43m\"\u001b[39;49m\u001b[43m)\u001b[49m\u001b[43m,\u001b[49m\n\u001b[1;32m   1669\u001b[0m \u001b[43m    \u001b[49m\u001b[43mstorage_options\u001b[49m\u001b[38;5;241;43m=\u001b[39;49m\u001b[38;5;28;43mself\u001b[39;49m\u001b[38;5;241;43m.\u001b[39;49m\u001b[43moptions\u001b[49m\u001b[38;5;241;43m.\u001b[39;49m\u001b[43mget\u001b[49m\u001b[43m(\u001b[49m\u001b[38;5;124;43m\"\u001b[39;49m\u001b[38;5;124;43mstorage_options\u001b[39;49m\u001b[38;5;124;43m\"\u001b[39;49m\u001b[43m,\u001b[49m\u001b[43m \u001b[49m\u001b[38;5;28;43;01mNone\u001b[39;49;00m\u001b[43m)\u001b[49m\u001b[43m,\u001b[49m\n\u001b[1;32m   1670\u001b[0m \u001b[43m\u001b[49m\u001b[43m)\u001b[49m\n\u001b[1;32m   1671\u001b[0m \u001b[38;5;28;01massert\u001b[39;00m \u001b[38;5;28mself\u001b[39m\u001b[38;5;241m.\u001b[39mhandles \u001b[38;5;129;01mis\u001b[39;00m \u001b[38;5;129;01mnot\u001b[39;00m \u001b[38;5;28;01mNone\u001b[39;00m\n\u001b[1;32m   1672\u001b[0m f \u001b[38;5;241m=\u001b[39m \u001b[38;5;28mself\u001b[39m\u001b[38;5;241m.\u001b[39mhandles\u001b[38;5;241m.\u001b[39mhandle\n",
      "File \u001b[0;32m/opt/conda/envs/EMBL_training/lib/python3.9/site-packages/pandas/io/common.py:859\u001b[0m, in \u001b[0;36mget_handle\u001b[0;34m(path_or_buf, mode, encoding, compression, memory_map, is_text, errors, storage_options)\u001b[0m\n\u001b[1;32m    854\u001b[0m \u001b[38;5;28;01melif\u001b[39;00m \u001b[38;5;28misinstance\u001b[39m(handle, \u001b[38;5;28mstr\u001b[39m):\n\u001b[1;32m    855\u001b[0m     \u001b[38;5;66;03m# Check whether the filename is to be opened in binary mode.\u001b[39;00m\n\u001b[1;32m    856\u001b[0m     \u001b[38;5;66;03m# Binary mode does not support 'encoding' and 'newline'.\u001b[39;00m\n\u001b[1;32m    857\u001b[0m     \u001b[38;5;28;01mif\u001b[39;00m ioargs\u001b[38;5;241m.\u001b[39mencoding \u001b[38;5;129;01mand\u001b[39;00m \u001b[38;5;124m\"\u001b[39m\u001b[38;5;124mb\u001b[39m\u001b[38;5;124m\"\u001b[39m \u001b[38;5;129;01mnot\u001b[39;00m \u001b[38;5;129;01min\u001b[39;00m ioargs\u001b[38;5;241m.\u001b[39mmode:\n\u001b[1;32m    858\u001b[0m         \u001b[38;5;66;03m# Encoding\u001b[39;00m\n\u001b[0;32m--> 859\u001b[0m         handle \u001b[38;5;241m=\u001b[39m \u001b[38;5;28;43mopen\u001b[39;49m\u001b[43m(\u001b[49m\n\u001b[1;32m    860\u001b[0m \u001b[43m            \u001b[49m\u001b[43mhandle\u001b[49m\u001b[43m,\u001b[49m\n\u001b[1;32m    861\u001b[0m \u001b[43m            \u001b[49m\u001b[43mioargs\u001b[49m\u001b[38;5;241;43m.\u001b[39;49m\u001b[43mmode\u001b[49m\u001b[43m,\u001b[49m\n\u001b[1;32m    862\u001b[0m \u001b[43m            \u001b[49m\u001b[43mencoding\u001b[49m\u001b[38;5;241;43m=\u001b[39;49m\u001b[43mioargs\u001b[49m\u001b[38;5;241;43m.\u001b[39;49m\u001b[43mencoding\u001b[49m\u001b[43m,\u001b[49m\n\u001b[1;32m    863\u001b[0m \u001b[43m            \u001b[49m\u001b[43merrors\u001b[49m\u001b[38;5;241;43m=\u001b[39;49m\u001b[43merrors\u001b[49m\u001b[43m,\u001b[49m\n\u001b[1;32m    864\u001b[0m \u001b[43m            \u001b[49m\u001b[43mnewline\u001b[49m\u001b[38;5;241;43m=\u001b[39;49m\u001b[38;5;124;43m\"\u001b[39;49m\u001b[38;5;124;43m\"\u001b[39;49m\u001b[43m,\u001b[49m\n\u001b[1;32m    865\u001b[0m \u001b[43m        \u001b[49m\u001b[43m)\u001b[49m\n\u001b[1;32m    866\u001b[0m     \u001b[38;5;28;01melse\u001b[39;00m:\n\u001b[1;32m    867\u001b[0m         \u001b[38;5;66;03m# Binary mode\u001b[39;00m\n\u001b[1;32m    868\u001b[0m         handle \u001b[38;5;241m=\u001b[39m \u001b[38;5;28mopen\u001b[39m(handle, ioargs\u001b[38;5;241m.\u001b[39mmode)\n",
      "\u001b[0;31mFileNotFoundError\u001b[0m: [Errno 2] No such file or directory: './out/EMBL_training_mouse_brain_decoded_df.tsv'"
     ]
    }
   ],
   "source": [
    "decoded_peaks = pd.read_csv(f\"{out_dir}/EMBL_training_mouse_brain_decoded_df.tsv\", sep=\"\\t\")"
   ]
  },
  {
   "cell_type": "code",
   "execution_count": 42,
   "metadata": {},
   "outputs": [
    {
     "data": {
      "text/html": [
       "<div>\n",
       "<style scoped>\n",
       "    .dataframe tbody tr th:only-of-type {\n",
       "        vertical-align: middle;\n",
       "    }\n",
       "\n",
       "    .dataframe tbody tr th {\n",
       "        vertical-align: top;\n",
       "    }\n",
       "\n",
       "    .dataframe thead th {\n",
       "        text-align: right;\n",
       "    }\n",
       "</style>\n",
       "<table border=\"1\" class=\"dataframe\">\n",
       "  <thead>\n",
       "    <tr style=\"text-align: right;\">\n",
       "      <th></th>\n",
       "      <th>Name</th>\n",
       "      <th>Code</th>\n",
       "      <th>Probability</th>\n",
       "      <th>y_int</th>\n",
       "      <th>x_int</th>\n",
       "      <th>index_code</th>\n",
       "      <th>axis</th>\n",
       "      <th>R0_C0</th>\n",
       "      <th>R1_C0</th>\n",
       "      <th>R2_C0</th>\n",
       "      <th>...</th>\n",
       "      <th>R2_C2</th>\n",
       "      <th>R3_C2</th>\n",
       "      <th>R4_C2</th>\n",
       "      <th>R5_C2</th>\n",
       "      <th>R0_C3</th>\n",
       "      <th>R1_C3</th>\n",
       "      <th>R2_C3</th>\n",
       "      <th>R3_C3</th>\n",
       "      <th>R4_C3</th>\n",
       "      <th>R5_C3</th>\n",
       "    </tr>\n",
       "  </thead>\n",
       "  <tbody>\n",
       "    <tr>\n",
       "      <th>0</th>\n",
       "      <td>background</td>\n",
       "      <td>0000</td>\n",
       "      <td>0.964294</td>\n",
       "      <td>1</td>\n",
       "      <td>153</td>\n",
       "      <td>NaN</td>\n",
       "      <td>1</td>\n",
       "      <td>0</td>\n",
       "      <td>0</td>\n",
       "      <td>0</td>\n",
       "      <td>...</td>\n",
       "      <td>0</td>\n",
       "      <td>0</td>\n",
       "      <td>0</td>\n",
       "      <td>0</td>\n",
       "      <td>0</td>\n",
       "      <td>0</td>\n",
       "      <td>0</td>\n",
       "      <td>0</td>\n",
       "      <td>0</td>\n",
       "      <td>0</td>\n",
       "    </tr>\n",
       "    <tr>\n",
       "      <th>1</th>\n",
       "      <td>Fos</td>\n",
       "      <td>CTGCAC</td>\n",
       "      <td>0.158820</td>\n",
       "      <td>2</td>\n",
       "      <td>829</td>\n",
       "      <td>132141.0</td>\n",
       "      <td>1</td>\n",
       "      <td>0</td>\n",
       "      <td>0</td>\n",
       "      <td>5</td>\n",
       "      <td>...</td>\n",
       "      <td>2</td>\n",
       "      <td>3</td>\n",
       "      <td>0</td>\n",
       "      <td>0</td>\n",
       "      <td>0</td>\n",
       "      <td>0</td>\n",
       "      <td>0</td>\n",
       "      <td>0</td>\n",
       "      <td>0</td>\n",
       "      <td>0</td>\n",
       "    </tr>\n",
       "    <tr>\n",
       "      <th>2</th>\n",
       "      <td>Bdnf</td>\n",
       "      <td>TTCGTC</td>\n",
       "      <td>0.269279</td>\n",
       "      <td>1</td>\n",
       "      <td>969</td>\n",
       "      <td>331231.0</td>\n",
       "      <td>1</td>\n",
       "      <td>0</td>\n",
       "      <td>0</td>\n",
       "      <td>0</td>\n",
       "      <td>...</td>\n",
       "      <td>2</td>\n",
       "      <td>0</td>\n",
       "      <td>0</td>\n",
       "      <td>9</td>\n",
       "      <td>898</td>\n",
       "      <td>5</td>\n",
       "      <td>0</td>\n",
       "      <td>0</td>\n",
       "      <td>0</td>\n",
       "      <td>0</td>\n",
       "    </tr>\n",
       "    <tr>\n",
       "      <th>3</th>\n",
       "      <td>Trh</td>\n",
       "      <td>CCATAA</td>\n",
       "      <td>0.524485</td>\n",
       "      <td>1</td>\n",
       "      <td>1044</td>\n",
       "      <td>114344.0</td>\n",
       "      <td>1</td>\n",
       "      <td>0</td>\n",
       "      <td>0</td>\n",
       "      <td>45</td>\n",
       "      <td>...</td>\n",
       "      <td>4</td>\n",
       "      <td>0</td>\n",
       "      <td>0</td>\n",
       "      <td>0</td>\n",
       "      <td>0</td>\n",
       "      <td>0</td>\n",
       "      <td>0</td>\n",
       "      <td>0</td>\n",
       "      <td>0</td>\n",
       "      <td>0</td>\n",
       "    </tr>\n",
       "    <tr>\n",
       "      <th>4</th>\n",
       "      <td>Pdyn</td>\n",
       "      <td>CGGACA</td>\n",
       "      <td>0.797838</td>\n",
       "      <td>2</td>\n",
       "      <td>2087</td>\n",
       "      <td>122414.0</td>\n",
       "      <td>1</td>\n",
       "      <td>0</td>\n",
       "      <td>0</td>\n",
       "      <td>4</td>\n",
       "      <td>...</td>\n",
       "      <td>0</td>\n",
       "      <td>0</td>\n",
       "      <td>4</td>\n",
       "      <td>0</td>\n",
       "      <td>0</td>\n",
       "      <td>0</td>\n",
       "      <td>0</td>\n",
       "      <td>0</td>\n",
       "      <td>0</td>\n",
       "      <td>0</td>\n",
       "    </tr>\n",
       "    <tr>\n",
       "      <th>...</th>\n",
       "      <td>...</td>\n",
       "      <td>...</td>\n",
       "      <td>...</td>\n",
       "      <td>...</td>\n",
       "      <td>...</td>\n",
       "      <td>...</td>\n",
       "      <td>...</td>\n",
       "      <td>...</td>\n",
       "      <td>...</td>\n",
       "      <td>...</td>\n",
       "      <td>...</td>\n",
       "      <td>...</td>\n",
       "      <td>...</td>\n",
       "      <td>...</td>\n",
       "      <td>...</td>\n",
       "      <td>...</td>\n",
       "      <td>...</td>\n",
       "      <td>...</td>\n",
       "      <td>...</td>\n",
       "      <td>...</td>\n",
       "      <td>...</td>\n",
       "    </tr>\n",
       "    <tr>\n",
       "      <th>32238</th>\n",
       "      <td>background</td>\n",
       "      <td>0000</td>\n",
       "      <td>0.964294</td>\n",
       "      <td>4110</td>\n",
       "      <td>1043</td>\n",
       "      <td>NaN</td>\n",
       "      <td>1</td>\n",
       "      <td>0</td>\n",
       "      <td>0</td>\n",
       "      <td>0</td>\n",
       "      <td>...</td>\n",
       "      <td>0</td>\n",
       "      <td>0</td>\n",
       "      <td>0</td>\n",
       "      <td>0</td>\n",
       "      <td>0</td>\n",
       "      <td>0</td>\n",
       "      <td>0</td>\n",
       "      <td>0</td>\n",
       "      <td>0</td>\n",
       "      <td>0</td>\n",
       "    </tr>\n",
       "    <tr>\n",
       "      <th>32239</th>\n",
       "      <td>background</td>\n",
       "      <td>0000</td>\n",
       "      <td>0.964294</td>\n",
       "      <td>4110</td>\n",
       "      <td>1162</td>\n",
       "      <td>NaN</td>\n",
       "      <td>1</td>\n",
       "      <td>0</td>\n",
       "      <td>0</td>\n",
       "      <td>0</td>\n",
       "      <td>...</td>\n",
       "      <td>0</td>\n",
       "      <td>0</td>\n",
       "      <td>0</td>\n",
       "      <td>0</td>\n",
       "      <td>0</td>\n",
       "      <td>0</td>\n",
       "      <td>0</td>\n",
       "      <td>0</td>\n",
       "      <td>0</td>\n",
       "      <td>0</td>\n",
       "    </tr>\n",
       "    <tr>\n",
       "      <th>32240</th>\n",
       "      <td>background</td>\n",
       "      <td>0000</td>\n",
       "      <td>0.964294</td>\n",
       "      <td>4110</td>\n",
       "      <td>1583</td>\n",
       "      <td>NaN</td>\n",
       "      <td>1</td>\n",
       "      <td>0</td>\n",
       "      <td>0</td>\n",
       "      <td>0</td>\n",
       "      <td>...</td>\n",
       "      <td>0</td>\n",
       "      <td>0</td>\n",
       "      <td>0</td>\n",
       "      <td>0</td>\n",
       "      <td>0</td>\n",
       "      <td>0</td>\n",
       "      <td>0</td>\n",
       "      <td>0</td>\n",
       "      <td>0</td>\n",
       "      <td>0</td>\n",
       "    </tr>\n",
       "    <tr>\n",
       "      <th>32241</th>\n",
       "      <td>background</td>\n",
       "      <td>0000</td>\n",
       "      <td>0.964294</td>\n",
       "      <td>4110</td>\n",
       "      <td>1788</td>\n",
       "      <td>NaN</td>\n",
       "      <td>1</td>\n",
       "      <td>0</td>\n",
       "      <td>0</td>\n",
       "      <td>0</td>\n",
       "      <td>...</td>\n",
       "      <td>0</td>\n",
       "      <td>0</td>\n",
       "      <td>0</td>\n",
       "      <td>0</td>\n",
       "      <td>0</td>\n",
       "      <td>0</td>\n",
       "      <td>0</td>\n",
       "      <td>0</td>\n",
       "      <td>0</td>\n",
       "      <td>0</td>\n",
       "    </tr>\n",
       "    <tr>\n",
       "      <th>32242</th>\n",
       "      <td>background</td>\n",
       "      <td>0000</td>\n",
       "      <td>0.964294</td>\n",
       "      <td>4111</td>\n",
       "      <td>3455</td>\n",
       "      <td>NaN</td>\n",
       "      <td>1</td>\n",
       "      <td>0</td>\n",
       "      <td>0</td>\n",
       "      <td>0</td>\n",
       "      <td>...</td>\n",
       "      <td>0</td>\n",
       "      <td>0</td>\n",
       "      <td>0</td>\n",
       "      <td>0</td>\n",
       "      <td>0</td>\n",
       "      <td>0</td>\n",
       "      <td>0</td>\n",
       "      <td>0</td>\n",
       "      <td>0</td>\n",
       "      <td>0</td>\n",
       "    </tr>\n",
       "  </tbody>\n",
       "</table>\n",
       "<p>32243 rows × 31 columns</p>\n",
       "</div>"
      ],
      "text/plain": [
       "             Name    Code  Probability  y_int  x_int  index_code  axis  R0_C0  \\\n",
       "0      background    0000     0.964294      1    153         NaN     1      0   \n",
       "1             Fos  CTGCAC     0.158820      2    829    132141.0     1      0   \n",
       "2            Bdnf  TTCGTC     0.269279      1    969    331231.0     1      0   \n",
       "3             Trh  CCATAA     0.524485      1   1044    114344.0     1      0   \n",
       "4            Pdyn  CGGACA     0.797838      2   2087    122414.0     1      0   \n",
       "...           ...     ...          ...    ...    ...         ...   ...    ...   \n",
       "32238  background    0000     0.964294   4110   1043         NaN     1      0   \n",
       "32239  background    0000     0.964294   4110   1162         NaN     1      0   \n",
       "32240  background    0000     0.964294   4110   1583         NaN     1      0   \n",
       "32241  background    0000     0.964294   4110   1788         NaN     1      0   \n",
       "32242  background    0000     0.964294   4111   3455         NaN     1      0   \n",
       "\n",
       "       R1_C0  R2_C0  ...  R2_C2  R3_C2  R4_C2  R5_C2  R0_C3  R1_C3  R2_C3  \\\n",
       "0          0      0  ...      0      0      0      0      0      0      0   \n",
       "1          0      5  ...      2      3      0      0      0      0      0   \n",
       "2          0      0  ...      2      0      0      9    898      5      0   \n",
       "3          0     45  ...      4      0      0      0      0      0      0   \n",
       "4          0      4  ...      0      0      4      0      0      0      0   \n",
       "...      ...    ...  ...    ...    ...    ...    ...    ...    ...    ...   \n",
       "32238      0      0  ...      0      0      0      0      0      0      0   \n",
       "32239      0      0  ...      0      0      0      0      0      0      0   \n",
       "32240      0      0  ...      0      0      0      0      0      0      0   \n",
       "32241      0      0  ...      0      0      0      0      0      0      0   \n",
       "32242      0      0  ...      0      0      0      0      0      0      0   \n",
       "\n",
       "       R3_C3  R4_C3  R5_C3  \n",
       "0          0      0      0  \n",
       "1          0      0      0  \n",
       "2          0      0      0  \n",
       "3          0      0      0  \n",
       "4          0      0      0  \n",
       "...      ...    ...    ...  \n",
       "32238      0      0      0  \n",
       "32239      0      0      0  \n",
       "32240      0      0      0  \n",
       "32241      0      0      0  \n",
       "32242      0      0      0  \n",
       "\n",
       "[32243 rows x 31 columns]"
      ]
     },
     "execution_count": 42,
     "metadata": {},
     "output_type": "execute_result"
    }
   ],
   "source": [
    "decoded_peaks"
   ]
  },
  {
   "cell_type": "code",
   "execution_count": 43,
   "metadata": {},
   "outputs": [],
   "source": [
    "decoded_group = decoded_peaks[decoded_peaks.Probability > 0.9]"
   ]
  },
  {
   "cell_type": "code",
   "execution_count": 44,
   "metadata": {},
   "outputs": [
    {
     "data": {
      "text/plain": [
       "array(['background', 'Fos', 'Bdnf', 'Trh', 'Pdyn', 'Gfap', 'Itgam',\n",
       "       'Acta2', 'Slc17a7', 'Ntrk2', 'Npy2r', 'Slc6a3', 'Laptm5', 'Fev',\n",
       "       'Neurod1', 'infeasible', 'Chat', 'Oxt', 'Npy', 'Pvalb', 'Calca',\n",
       "       'Sst', 'Gad1', 'Gja1', 'Mbp', 'Gad2', 'Kcnj8', 'P2rx3', 'Plp1',\n",
       "       'Sncg', 'Ptprc', 'Tubb3', 'Ache', 'Slc6a4', 'Ndnf', 'Th', 'Slc6a5',\n",
       "       'Vip', 'Slc6a1', 'Syn1', 'Rbfox3', 'Dcn', 'Spp1', 'Trpv1', 'Tph1',\n",
       "       'Nefh', 'Map2', 'Slc17a6', 'Pcp4', 'Aldoc'], dtype=object)"
      ]
     },
     "execution_count": 44,
     "metadata": {},
     "output_type": "execute_result"
    }
   ],
   "source": [
    "decoded_peaks.Name.unique()"
   ]
  },
  {
   "cell_type": "code",
   "execution_count": 45,
   "metadata": {},
   "outputs": [],
   "source": [
    "decoded_group = decoded_peaks.groupby(\"Name\")"
   ]
  },
  {
   "cell_type": "code",
   "execution_count": 46,
   "metadata": {
    "scrolled": true
   },
   "outputs": [],
   "source": [
    "spot_layers = {}\n",
    "for n, grp in decoded_group:\n",
    "    # print(n, grp)\n",
    "    spot_layers[n] = viewer.add_points(grp[['y_int', 'x_int']], name=n)"
   ]
  },
  {
   "cell_type": "code",
   "execution_count": 47,
   "metadata": {},
   "outputs": [],
   "source": [
    "for n in spot_layers:\n",
    "    spot_layers[n].visible=False"
   ]
  },
  {
   "cell_type": "code",
   "execution_count": 48,
   "metadata": {},
   "outputs": [],
   "source": [
    "spot_layers['Vip'].face_color= 'red'\n",
    "spot_layers['Vip'].visible= True\n",
    "spot_layers['Vip'].size= 100"
   ]
  },
  {
   "cell_type": "markdown",
   "metadata": {},
   "source": [
    "More in https://napari.org/stable/howtos/layers/points.html"
   ]
  },
  {
   "cell_type": "code",
   "execution_count": null,
   "metadata": {},
   "outputs": [],
   "source": []
  }
 ],
 "metadata": {
  "kernelspec": {
   "display_name": "EMBL_training",
   "language": "python",
   "name": "embl_training"
  },
  "language_info": {
   "codemirror_mode": {
    "name": "ipython",
    "version": 3
   },
   "file_extension": ".py",
   "mimetype": "text/x-python",
   "name": "python",
   "nbconvert_exporter": "python",
   "pygments_lexer": "ipython3",
   "version": "3.9.16"
  }
 },
 "nbformat": 4,
 "nbformat_minor": 4
}
