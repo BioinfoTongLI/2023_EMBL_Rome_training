{
 "cells": [
  {
   "cell_type": "code",
   "execution_count": 1,
   "metadata": {},
   "outputs": [
    {
     "name": "stdout",
     "output_type": "stream",
     "text": [
      "Using cucim\n"
     ]
    }
   ],
   "source": [
    "# import tifffile as tf\n",
    "from dask_image.imread import imread\n",
    "import matplotlib.pyplot as plt\n",
    "use_gpu = True\n",
    "if use_gpu:\n",
    "    from cucim.skimage.morphology import white_tophat, disk\n",
    "    import cupy as xp\n",
    "    print(\"Using cucim\")\n",
    "else:\n",
    "    from skimage.morphology import white_tophat, disk\n",
    "    import numpy as xp\n",
    "    print(\"Using skimage\")\n",
    "from tqdm import tqdm"
   ]
  },
  {
   "cell_type": "code",
   "execution_count": 2,
   "metadata": {},
   "outputs": [],
   "source": [
    "root = \"/scratch/iss_decoding/workshop_data/decoding/\"\n",
    "out_dir = \"./out\""
   ]
  },
  {
   "cell_type": "code",
   "execution_count": 3,
   "metadata": {},
   "outputs": [],
   "source": [
    "! mkdir {out_dir}"
   ]
  },
  {
   "cell_type": "code",
   "execution_count": 4,
   "metadata": {},
   "outputs": [],
   "source": [
    "# Lazily load the image\n",
    "registered_stack = imread(f\"{root}/in/demo_optflow_seg_optflow_reg_result_stack.tif\")"
   ]
  },
  {
   "cell_type": "code",
   "execution_count": 5,
   "metadata": {},
   "outputs": [
    {
     "data": {
      "text/plain": [
       "(35, 4114, 4369)"
      ]
     },
     "execution_count": 5,
     "metadata": {},
     "output_type": "execute_result"
    }
   ],
   "source": [
    "registered_stack.shape # (c, y, x), 35 channels of 4114 * 4369 images"
   ]
  },
  {
   "cell_type": "code",
   "execution_count": 6,
   "metadata": {},
   "outputs": [
    {
     "name": "stdout",
     "output_type": "stream",
     "text": [
      "Anchor image shape:  (4114, 4369)\n",
      "Channel 1-5 are empty channels, not used for decoding\n",
      "Coding image shape:  (24, 4114, 4369)\n"
     ]
    }
   ],
   "source": [
    "anchor_ch = registered_stack[1]\n",
    "anchor_ch\n",
    "print(\"Anchor image shape: \", anchor_ch.shape)\n",
    "print(\"Channel 1-5 are empty channels, not used for decoding\")\n",
    "coding_chs = registered_stack[\n",
    "    [6,7,8,9,\n",
    "     11,12,13,14,\n",
    "     16,17,18,19,\n",
    "     21,22,23,24,\n",
    "     26,27,28,29,\n",
    "     31,32,33,34]]\n",
    "print(\"Coding image shape: \", coding_chs.shape)"
   ]
  },
  {
   "cell_type": "code",
   "execution_count": 7,
   "metadata": {},
   "outputs": [],
   "source": [
    "import napari"
   ]
  },
  {
   "cell_type": "code",
   "execution_count": 8,
   "metadata": {},
   "outputs": [
    {
     "name": "stderr",
     "output_type": "stream",
     "text": [
      "WARNING: QStandardPaths: error creating runtime directory '/run/user/1386' (Read-only file system)\n",
      "WARNING: Qt: Session management error: None of the authentication protocols specified are supported\n"
     ]
    }
   ],
   "source": [
    "viewer = napari.Viewer()"
   ]
  },
  {
   "cell_type": "code",
   "execution_count": 9,
   "metadata": {},
   "outputs": [
    {
     "data": {
      "text/plain": [
       "<Image layer 'registered_stack' at 0x7f2e9025f850>"
      ]
     },
     "execution_count": 9,
     "metadata": {},
     "output_type": "execute_result"
    }
   ],
   "source": [
    "viewer.add_image(registered_stack)"
   ]
  },
  {
   "cell_type": "code",
   "execution_count": 10,
   "metadata": {},
   "outputs": [],
   "source": [
    "spot_diam = 5 # manually count the spot diameter. Roughly 5 pixels."
   ]
  },
  {
   "cell_type": "code",
   "execution_count": 11,
   "metadata": {},
   "outputs": [],
   "source": [
    "selem=disk(spot_diam/2) # Create the kernel for white tophat filtering"
   ]
  },
  {
   "cell_type": "code",
   "execution_count": 12,
   "metadata": {},
   "outputs": [
    {
     "data": {
      "text/plain": [
       "array([[0, 0, 0, 0, 0, 0],\n",
       "       [0, 1, 1, 1, 1, 0],\n",
       "       [0, 1, 1, 1, 1, 0],\n",
       "       [0, 1, 1, 1, 1, 0],\n",
       "       [0, 1, 1, 1, 1, 0],\n",
       "       [0, 0, 0, 0, 0, 0]], dtype=uint8)"
      ]
     },
     "execution_count": 12,
     "metadata": {},
     "output_type": "execute_result"
    }
   ],
   "source": [
    "selem # TODO: Napari vis."
   ]
  },
  {
   "cell_type": "code",
   "execution_count": 13,
   "metadata": {},
   "outputs": [
    {
     "data": {
      "text/plain": [
       "<Image layer 'kernel' at 0x7f2e9025f340>"
      ]
     },
     "execution_count": 13,
     "metadata": {},
     "output_type": "execute_result"
    }
   ],
   "source": [
    "viewer.add_image(selem.get(), name=\"kernel\")"
   ]
  },
  {
   "cell_type": "code",
   "execution_count": 14,
   "metadata": {},
   "outputs": [
    {
     "name": "stderr",
     "output_type": "stream",
     "text": [
      "100%|██████████| 24/24 [00:06<00:00,  3.67it/s]\n"
     ]
    }
   ],
   "source": [
    "enhancded = []\n",
    "for ch in tqdm(coding_chs): # Run the white tophat filter on all coding channels\n",
    "    enhancded.append(white_tophat(xp.array(ch), footprint=selem))"
   ]
  },
  {
   "cell_type": "code",
   "execution_count": 15,
   "metadata": {},
   "outputs": [],
   "source": [
    "enhanced_stack = xp.array(enhancded)"
   ]
  },
  {
   "cell_type": "code",
   "execution_count": 16,
   "metadata": {},
   "outputs": [
    {
     "data": {
      "text/plain": [
       "<Image layer 'enhanced_stack' at 0x7f2e4c298070>"
      ]
     },
     "execution_count": 16,
     "metadata": {},
     "output_type": "execute_result"
    }
   ],
   "source": [
    "viewer.add_image(enhanced_stack.get(), name=\"enhanced_stack\")"
   ]
  },
  {
   "cell_type": "code",
   "execution_count": 17,
   "metadata": {},
   "outputs": [],
   "source": [
    "enhancded_anchor = white_tophat(xp.array(anchor_ch), footprint=selem) # Run the white tophat filter on the anchor channel"
   ]
  },
  {
   "cell_type": "code",
   "execution_count": 18,
   "metadata": {},
   "outputs": [
    {
     "data": {
      "text/plain": [
       "<Image layer 'enhanced_anchor_channel' at 0x7f2e4c1a51f0>"
      ]
     },
     "execution_count": 18,
     "metadata": {},
     "output_type": "execute_result"
    }
   ],
   "source": [
    "viewer.add_image(enhancded_anchor.get(), name=\"enhanced_anchor_channel\")"
   ]
  },
  {
   "cell_type": "code",
   "execution_count": 19,
   "metadata": {},
   "outputs": [],
   "source": [
    "import trackpy as tp\n",
    "import numpy as np"
   ]
  },
  {
   "cell_type": "code",
   "execution_count": 20,
   "metadata": {},
   "outputs": [],
   "source": [
    "spots = tp.locate(np.array(enhancded_anchor.get()), spot_diam, separation=3, percentile=95) # Find the spots in the anchor channel"
   ]
  },
  {
   "cell_type": "code",
   "execution_count": 21,
   "metadata": {},
   "outputs": [
    {
     "data": {
      "text/html": [
       "<div>\n",
       "<style scoped>\n",
       "    .dataframe tbody tr th:only-of-type {\n",
       "        vertical-align: middle;\n",
       "    }\n",
       "\n",
       "    .dataframe tbody tr th {\n",
       "        vertical-align: top;\n",
       "    }\n",
       "\n",
       "    .dataframe thead th {\n",
       "        text-align: right;\n",
       "    }\n",
       "</style>\n",
       "<table border=\"1\" class=\"dataframe\">\n",
       "  <thead>\n",
       "    <tr style=\"text-align: right;\">\n",
       "      <th></th>\n",
       "      <th>y</th>\n",
       "      <th>x</th>\n",
       "      <th>mass</th>\n",
       "      <th>size</th>\n",
       "      <th>ecc</th>\n",
       "      <th>signal</th>\n",
       "      <th>raw_mass</th>\n",
       "      <th>ep</th>\n",
       "    </tr>\n",
       "  </thead>\n",
       "  <tbody>\n",
       "    <tr>\n",
       "      <th>0</th>\n",
       "      <td>1.811746</td>\n",
       "      <td>153.978805</td>\n",
       "      <td>3244.690741</td>\n",
       "      <td>1.108477</td>\n",
       "      <td>0.238506</td>\n",
       "      <td>647.940118</td>\n",
       "      <td>19205.0</td>\n",
       "      <td>0.008554</td>\n",
       "    </tr>\n",
       "    <tr>\n",
       "      <th>1</th>\n",
       "      <td>2.241803</td>\n",
       "      <td>829.713764</td>\n",
       "      <td>15024.569562</td>\n",
       "      <td>1.187879</td>\n",
       "      <td>0.259268</td>\n",
       "      <td>2668.795951</td>\n",
       "      <td>85998.0</td>\n",
       "      <td>0.001909</td>\n",
       "    </tr>\n",
       "    <tr>\n",
       "      <th>2</th>\n",
       "      <td>1.868121</td>\n",
       "      <td>969.936389</td>\n",
       "      <td>12287.003071</td>\n",
       "      <td>1.097451</td>\n",
       "      <td>0.053729</td>\n",
       "      <td>2658.191877</td>\n",
       "      <td>75665.0</td>\n",
       "      <td>0.002170</td>\n",
       "    </tr>\n",
       "    <tr>\n",
       "      <th>3</th>\n",
       "      <td>1.842928</td>\n",
       "      <td>1044.107556</td>\n",
       "      <td>2982.395849</td>\n",
       "      <td>1.089054</td>\n",
       "      <td>0.079800</td>\n",
       "      <td>629.071104</td>\n",
       "      <td>18363.0</td>\n",
       "      <td>0.008947</td>\n",
       "    </tr>\n",
       "    <tr>\n",
       "      <th>4</th>\n",
       "      <td>2.107483</td>\n",
       "      <td>2087.951080</td>\n",
       "      <td>8829.918963</td>\n",
       "      <td>1.103736</td>\n",
       "      <td>0.108249</td>\n",
       "      <td>1890.332156</td>\n",
       "      <td>56351.0</td>\n",
       "      <td>0.002914</td>\n",
       "    </tr>\n",
       "    <tr>\n",
       "      <th>...</th>\n",
       "      <td>...</td>\n",
       "      <td>...</td>\n",
       "      <td>...</td>\n",
       "      <td>...</td>\n",
       "      <td>...</td>\n",
       "      <td>...</td>\n",
       "      <td>...</td>\n",
       "      <td>...</td>\n",
       "    </tr>\n",
       "    <tr>\n",
       "      <th>32238</th>\n",
       "      <td>4110.858709</td>\n",
       "      <td>1043.694682</td>\n",
       "      <td>23588.139133</td>\n",
       "      <td>1.175160</td>\n",
       "      <td>0.387659</td>\n",
       "      <td>4231.805289</td>\n",
       "      <td>137479.0</td>\n",
       "      <td>0.001194</td>\n",
       "    </tr>\n",
       "    <tr>\n",
       "      <th>32239</th>\n",
       "      <td>4110.868927</td>\n",
       "      <td>1162.159815</td>\n",
       "      <td>13102.581126</td>\n",
       "      <td>1.197047</td>\n",
       "      <td>0.261695</td>\n",
       "      <td>2312.467872</td>\n",
       "      <td>71529.0</td>\n",
       "      <td>0.002295</td>\n",
       "    </tr>\n",
       "    <tr>\n",
       "      <th>32240</th>\n",
       "      <td>4110.959552</td>\n",
       "      <td>1583.219128</td>\n",
       "      <td>6261.082005</td>\n",
       "      <td>1.132999</td>\n",
       "      <td>0.399273</td>\n",
       "      <td>1180.171074</td>\n",
       "      <td>38114.0</td>\n",
       "      <td>0.004308</td>\n",
       "    </tr>\n",
       "    <tr>\n",
       "      <th>32241</th>\n",
       "      <td>4110.990894</td>\n",
       "      <td>1788.570091</td>\n",
       "      <td>23049.514544</td>\n",
       "      <td>1.171605</td>\n",
       "      <td>0.432797</td>\n",
       "      <td>4193.911318</td>\n",
       "      <td>158475.0</td>\n",
       "      <td>0.001036</td>\n",
       "    </tr>\n",
       "    <tr>\n",
       "      <th>32242</th>\n",
       "      <td>4111.084381</td>\n",
       "      <td>3455.877532</td>\n",
       "      <td>11476.571112</td>\n",
       "      <td>1.159388</td>\n",
       "      <td>0.417885</td>\n",
       "      <td>2162.919238</td>\n",
       "      <td>62825.0</td>\n",
       "      <td>0.002613</td>\n",
       "    </tr>\n",
       "  </tbody>\n",
       "</table>\n",
       "<p>32243 rows × 8 columns</p>\n",
       "</div>"
      ],
      "text/plain": [
       "                 y            x          mass      size       ecc  \\\n",
       "0         1.811746   153.978805   3244.690741  1.108477  0.238506   \n",
       "1         2.241803   829.713764  15024.569562  1.187879  0.259268   \n",
       "2         1.868121   969.936389  12287.003071  1.097451  0.053729   \n",
       "3         1.842928  1044.107556   2982.395849  1.089054  0.079800   \n",
       "4         2.107483  2087.951080   8829.918963  1.103736  0.108249   \n",
       "...            ...          ...           ...       ...       ...   \n",
       "32238  4110.858709  1043.694682  23588.139133  1.175160  0.387659   \n",
       "32239  4110.868927  1162.159815  13102.581126  1.197047  0.261695   \n",
       "32240  4110.959552  1583.219128   6261.082005  1.132999  0.399273   \n",
       "32241  4110.990894  1788.570091  23049.514544  1.171605  0.432797   \n",
       "32242  4111.084381  3455.877532  11476.571112  1.159388  0.417885   \n",
       "\n",
       "            signal  raw_mass        ep  \n",
       "0       647.940118   19205.0  0.008554  \n",
       "1      2668.795951   85998.0  0.001909  \n",
       "2      2658.191877   75665.0  0.002170  \n",
       "3       629.071104   18363.0  0.008947  \n",
       "4      1890.332156   56351.0  0.002914  \n",
       "...            ...       ...       ...  \n",
       "32238  4231.805289  137479.0  0.001194  \n",
       "32239  2312.467872   71529.0  0.002295  \n",
       "32240  1180.171074   38114.0  0.004308  \n",
       "32241  4193.911318  158475.0  0.001036  \n",
       "32242  2162.919238   62825.0  0.002613  \n",
       "\n",
       "[32243 rows x 8 columns]"
      ]
     },
     "execution_count": 21,
     "metadata": {},
     "output_type": "execute_result"
    }
   ],
   "source": [
    "spots"
   ]
  },
  {
   "cell_type": "code",
   "execution_count": 22,
   "metadata": {},
   "outputs": [
    {
     "data": {
      "text/plain": [
       "<Points layer 'all_RNA_spots' at 0x7f2f2c177940>"
      ]
     },
     "execution_count": 22,
     "metadata": {},
     "output_type": "execute_result"
    }
   ],
   "source": [
    "viewer.add_points(spots[['y', 'x']], face_color=\"red\", opacity=0.5, name=\"all_RNA_spots\")"
   ]
  },
  {
   "cell_type": "code",
   "execution_count": 23,
   "metadata": {},
   "outputs": [],
   "source": [
    "spots[\"x_int\"] = spots[\"x\"].astype(int)\n",
    "spots[\"y_int\"] = spots[\"y\"].astype(int)"
   ]
  },
  {
   "cell_type": "code",
   "execution_count": 24,
   "metadata": {},
   "outputs": [],
   "source": [
    "spots.to_csv(f\"{out_dir}/demo_optflow_seg_optflow_reg_result_stack_spots.csv\",\n",
    "            index=False)"
   ]
  },
  {
   "cell_type": "code",
   "execution_count": 25,
   "metadata": {},
   "outputs": [
    {
     "data": {
      "text/plain": [
       "(24, 4114, 4369)"
      ]
     },
     "execution_count": 25,
     "metadata": {},
     "output_type": "execute_result"
    }
   ],
   "source": [
    "enhanced_stack.shape"
   ]
  },
  {
   "cell_type": "code",
   "execution_count": 26,
   "metadata": {},
   "outputs": [],
   "source": [
    "peak_profiles = enhanced_stack[:, spots[\"y_int\"], spots[\"x_int\"]]"
   ]
  },
  {
   "cell_type": "code",
   "execution_count": 27,
   "metadata": {},
   "outputs": [
    {
     "data": {
      "text/plain": [
       "(24, 32243)"
      ]
     },
     "execution_count": 27,
     "metadata": {},
     "output_type": "execute_result"
    }
   ],
   "source": [
    "peak_profiles.shape"
   ]
  },
  {
   "cell_type": "code",
   "execution_count": 28,
   "metadata": {},
   "outputs": [],
   "source": [
    "reshaped_profiles = peak_profiles.reshape((4, 6, peak_profiles.shape[1])) # Reshape the peak profiles into a 4 barcodes * 6 cycles * 35 channels array"
   ]
  },
  {
   "cell_type": "code",
   "execution_count": 29,
   "metadata": {},
   "outputs": [
    {
     "data": {
      "text/plain": [
       "(4, 6, 32243)"
      ]
     },
     "execution_count": 29,
     "metadata": {},
     "output_type": "execute_result"
    }
   ],
   "source": [
    "reshaped_profiles.shape"
   ]
  },
  {
   "cell_type": "code",
   "execution_count": 30,
   "metadata": {},
   "outputs": [
    {
     "data": {
      "text/plain": [
       "array([[  3, 156,   7,   0, 487,  15],\n",
       "       [  0,   1,   4,  50,  10,  16],\n",
       "       [  0,  22,   0,  29,   0,   0],\n",
       "       [  0,   9, 361,  15,   3,   6]], dtype=uint16)"
      ]
     },
     "execution_count": 30,
     "metadata": {},
     "output_type": "execute_result"
    }
   ],
   "source": [
    "first_profile = reshaped_profiles[:,:,100]\n",
    "first_profile"
   ]
  },
  {
   "cell_type": "code",
   "execution_count": 31,
   "metadata": {},
   "outputs": [
    {
     "data": {
      "text/plain": [
       "array([0, 0, 3, 1, 0, 1], dtype=int64)"
      ]
     },
     "execution_count": 31,
     "metadata": {},
     "output_type": "execute_result"
    }
   ],
   "source": [
    "# Ont-hot encoding\n",
    "first_profile.argmax(axis=0)"
   ]
  },
  {
   "cell_type": "code",
   "execution_count": 32,
   "metadata": {},
   "outputs": [],
   "source": [
    "np.save(\n",
    "    f\"{out_dir}/demo_optflow_seg_optflow_reg_result_stack_peak_profiles.npy\",\n",
    "    np.transpose(reshaped_profiles, (2, 0, 1)).astype(np.int32),\n",
    "    allow_pickle=True\n",
    ")"
   ]
  },
  {
   "attachments": {},
   "cell_type": "markdown",
   "metadata": {},
   "source": [
    "# Decoding - Codebook preprocessing"
   ]
  },
  {
   "cell_type": "code",
   "execution_count": 33,
   "metadata": {},
   "outputs": [],
   "source": [
    "import bin.codebook_convert as cc\n",
    "import bin.reading_data_functions as rdf\n",
    "import bin.decode as dc\n",
    "import pickle\n",
    "import numpy as np"
   ]
  },
  {
   "cell_type": "code",
   "execution_count": 34,
   "metadata": {},
   "outputs": [
    {
     "name": "stdout",
     "output_type": "stream",
     "text": [
      "OrderedDict([('Cy5', 'A'), ('AF488', 'G'), ('Cy3', 'C'), ('Atto425', 'T'), ('AF750', 'T')])\n",
      "  nCycles nChannel    DAPI Cy5 AF488 Cy3 Atto425\n",
      "0       6        5  nuclei   A     G   C       T\n",
      "       Gene Channel\n",
      "0      Ache  ACTTGA\n",
      "1     Acta2  GTATCC\n",
      "2     Aldoc  CCCATT\n",
      "3      Bdnf  TTCGTC\n",
      "4     Calca  AAACGT\n",
      "5      Chat  CATAGG\n",
      "6       Dcn  ATTCAG\n",
      "7       Fev  TGCGAT\n",
      "8       Fos  CTGCAC\n",
      "9      Gad1  GTTTGA\n",
      "10     Gad2  GATTCA\n",
      "11     Gfap  ACAGCG\n",
      "12     Gja1  CACTAT\n",
      "13    Itgam  CTCGCG\n",
      "14    Kcnj8  AGAGAT\n",
      "15   Laptm5  CGTTAT\n",
      "16     Map2  TCTTTG\n",
      "17      Mbp  GCTCAC\n",
      "18     Ndnf  CTACGT\n",
      "19     Nefh  GCAATT\n",
      "20  Neurod1  ATCCGA\n",
      "21      Npy  ACCTAT\n",
      "22    Npy2r  GTCCAC\n",
      "23    Ntrk2  GGCGCA\n",
      "24      Oxt  AGTGCT\n",
      "25    P2rx3  CGAATT\n",
      "26     Pcp4  CCTTCG\n",
      "27     Pdyn  CGGACA\n",
      "28     Plp1  ACGGTC\n",
      "29    Ptprc  CAGCTC\n",
      "30    Pvalb  ATGCCC\n",
      "31   Rbfox3  GAGTGA\n",
      "32  Slc17a6  GCGTCG\n",
      "33  Slc17a7  TTTACA\n",
      "34   Slc6a1  TACAGC\n",
      "35   Slc6a3  TGAACC\n",
      "36   Slc6a4  CTTCTG\n",
      "37   Slc6a5  CCGTGG\n",
      "38     Sncg  CAAACG\n",
      "39     Spp1  CGCGGA\n",
      "40      Sst  GGTCTG\n",
      "41     Syn1  GTGGTC\n",
      "42       Th  TTATAC\n",
      "43     Tph1  AATATG\n",
      "44      Trh  CCATAA\n",
      "45    Trpv1  GGAAGC\n",
      "46    Tubb3  TGTCGA\n",
      "47      Vip  TATGAT\n"
     ]
    }
   ],
   "source": [
    "codebook_p = cc.main(f\"{root}/in/NT_FLW mouse brain CNS codebook.xlsx\", out_dir=f\"{out_dir}/\")"
   ]
  },
  {
   "cell_type": "code",
   "execution_count": 35,
   "metadata": {},
   "outputs": [],
   "source": [
    "barcodes_01, K, R, C, gene_names, channels_info = rdf.read_taglist_and_channel_info(\n",
    "        f\"{out_dir}/\",\n",
    "        taglist_name=\"taglist.csv\",\n",
    "        channel_info_name=\"channel_info.csv\",\n",
    ")"
   ]
  },
  {
   "cell_type": "code",
   "execution_count": 36,
   "metadata": {},
   "outputs": [
    {
     "name": "stdout",
     "output_type": "stream",
     "text": [
      "{'barcodes_AGCT': array(['ACTTGA', 'GTATCC', 'CCCATT', 'TTCGTC', 'AAACGT', 'CATAGG',\n",
      "       'ATTCAG', 'TGCGAT', 'CTGCAC', 'GTTTGA', 'GATTCA', 'ACAGCG',\n",
      "       'CACTAT', 'CTCGCG', 'AGAGAT', 'CGTTAT', 'TCTTTG', 'GCTCAC',\n",
      "       'CTACGT', 'GCAATT', 'ATCCGA', 'ACCTAT', 'GTCCAC', 'GGCGCA',\n",
      "       'AGTGCT', 'CGAATT', 'CCTTCG', 'CGGACA', 'ACGGTC', 'CAGCTC',\n",
      "       'ATGCCC', 'GAGTGA', 'GCGTCG', 'TTTACA', 'TACAGC', 'TGAACC',\n",
      "       'CTTCTG', 'CCGTGG', 'CAAACG', 'CGCGGA', 'GGTCTG', 'GTGGTC',\n",
      "       'TTATAC', 'AATATG', 'CCATAA', 'GGAAGC', 'TGTCGA', 'TATGAT'],\n",
      "      dtype=object), 'coding_chs': [False, True, True, True, True], 'channel_base': ['nuclei', 'A', 'G', 'C', 'T'], 'channel_names': ['DAPI', 'Cy5', 'AF488', 'Cy3', 'Atto425'], 'K': 48, 'R': 6, 'C': 4}\n"
     ]
    }
   ],
   "source": [
    "np.save(f\"{out_dir}/barcodes_01.npy\", barcodes_01)\n",
    "np.save(f\"{out_dir}/gene_names.npy\", gene_names)\n",
    "channels_info[\"K\"] = K\n",
    "channels_info[\"R\"] = R\n",
    "channels_info[\"C\"] = C\n",
    "print(channels_info)\n",
    "with open(f\"{out_dir}/channel_info.pickle\", \"wb\") as fp:\n",
    "    pickle.dump(channels_info, fp)"
   ]
  },
  {
   "cell_type": "code",
   "execution_count": 37,
   "metadata": {},
   "outputs": [
    {
     "name": "stdout",
     "output_type": "stream",
     "text": [
      "(32243, 4, 6)                        x          mass      size       ecc       signal  \\\n",
      "y                                                                         \n",
      "1.811746      153.978805   3244.690741  1.108477  0.238506   647.940118   \n",
      "2.241803      829.713764  15024.569562  1.187879  0.259268  2668.795951   \n",
      "1.868121      969.936389  12287.003071  1.097451  0.053729  2658.191877   \n",
      "1.842928     1044.107556   2982.395849  1.089054  0.079800   629.071104   \n",
      "2.107483     2087.951080   8829.918963  1.103736  0.108249  1890.332156   \n",
      "...                  ...           ...       ...       ...          ...   \n",
      "4110.858709  1043.694682  23588.139133  1.175160  0.387659  4231.805289   \n",
      "4110.868927  1162.159815  13102.581126  1.197047  0.261695  2312.467872   \n",
      "4110.959552  1583.219128   6261.082005  1.132999  0.399273  1180.171074   \n",
      "4110.990894  1788.570091  23049.514544  1.171605  0.432797  4193.911318   \n",
      "4111.084381  3455.877532  11476.571112  1.159388  0.417885  2162.919238   \n",
      "\n",
      "             raw_mass        ep  x_int  y_int  \n",
      "y                                              \n",
      "1.811746      19205.0  0.008554    153      1  \n",
      "2.241803      85998.0  0.001909    829      2  \n",
      "1.868121      75665.0  0.002170    969      1  \n",
      "1.842928      18363.0  0.008947   1044      1  \n",
      "2.107483      56351.0  0.002914   2087      2  \n",
      "...               ...       ...    ...    ...  \n",
      "4110.858709  137479.0  0.001194   1043   4110  \n",
      "4110.868927   71529.0  0.002295   1162   4110  \n",
      "4110.959552   38114.0  0.004308   1583   4110  \n",
      "4110.990894  158475.0  0.001036   1788   4110  \n",
      "4111.084381   62825.0  0.002613   3455   4111  \n",
      "\n",
      "[32243 rows x 9 columns]\n",
      "['Ache' 'Acta2' 'Aldoc' 'Bdnf' 'Calca' 'Chat' 'Dcn' 'Fev' 'Fos' 'Gad1'\n",
      " 'Gad2' 'Gfap' 'Gja1' 'Itgam' 'Kcnj8' 'Laptm5' 'Map2' 'Mbp' 'Ndnf' 'Nefh'\n",
      " 'Neurod1' 'Npy' 'Npy2r' 'Ntrk2' 'Oxt' 'P2rx3' 'Pcp4' 'Pdyn' 'Plp1'\n",
      " 'Ptprc' 'Pvalb' 'Rbfox3' 'Slc17a6' 'Slc17a7' 'Slc6a1' 'Slc6a3' 'Slc6a4'\n",
      " 'Slc6a5' 'Sncg' 'Spp1' 'Sst' 'Syn1' 'Th' 'Tph1' 'Trh' 'Trpv1' 'Tubb3'\n",
      " 'Vip' 'infeasible' 'background' 'nan']\n"
     ]
    }
   ],
   "source": [
    "dc.decode(\n",
    "    \"EMBL_training_mouse_brain\",\n",
    "    f\"{out_dir}/demo_optflow_seg_optflow_reg_result_stack_peak_profiles.npy\",\n",
    "    f\"{out_dir}/demo_optflow_seg_optflow_reg_result_stack_spots.csv\",\n",
    "    f\"{out_dir}/barcodes_01.npy\", f\"{out_dir}/gene_names.npy\", f\"{out_dir}/channel_info.pickle\",\n",
    "    out_dir=f\"{out_dir}\"\n",
    ")"
   ]
  },
  {
   "cell_type": "code",
   "execution_count": 38,
   "metadata": {},
   "outputs": [],
   "source": [
    "root = \"/scratch/iss_decoding/workshop_data/decoding/\"\n",
    "out_dir = \"./out\""
   ]
  },
  {
   "cell_type": "code",
   "execution_count": 39,
   "metadata": {},
   "outputs": [
    {
     "name": "stdout",
     "output_type": "stream",
     "text": [
      "EMBL_training_mouse_brain_decode_out_parameters.pickle\n",
      "EMBL_training_mouse_brain_decoded_df.tsv\n",
      "barcodes_01.npy\n",
      "channel_info.csv\n",
      "channel_info.pickle\n",
      "demo_optflow_seg_optflow_reg_result_stack_peak_profiles.npy\n",
      "demo_optflow_seg_optflow_reg_result_stack_spots.csv\n",
      "gene_names.npy\n",
      "taglist.csv\n"
     ]
    }
   ],
   "source": [
    " ! ls {out_dir}"
   ]
  },
  {
   "attachments": {},
   "cell_type": "markdown",
   "metadata": {},
   "source": [
    "# Visual QC of the decoded data"
   ]
  },
  {
   "cell_type": "code",
   "execution_count": 40,
   "metadata": {},
   "outputs": [],
   "source": [
    "import pandas as pd\n",
    "import napari"
   ]
  },
  {
   "cell_type": "code",
   "execution_count": 5,
   "metadata": {},
   "outputs": [
    {
     "name": "stderr",
     "output_type": "stream",
     "text": [
      "WARNING: QStandardPaths: error creating runtime directory '/run/user/1386' (Read-only file system)\n",
      "WARNING: Qt: Session management error: None of the authentication protocols specified are supported\n"
     ]
    }
   ],
   "source": [
    "viewer = napari.Viewer()"
   ]
  },
  {
   "cell_type": "code",
   "execution_count": 41,
   "metadata": {},
   "outputs": [],
   "source": [
    "decoded_peaks = pd.read_csv(f\"{out_dir}/EMBL_training_mouse_brain_decoded_df.tsv\", sep=\"\\t\")"
   ]
  },
  {
   "cell_type": "code",
   "execution_count": 42,
   "metadata": {},
   "outputs": [
    {
     "data": {
      "text/html": [
       "<div>\n",
       "<style scoped>\n",
       "    .dataframe tbody tr th:only-of-type {\n",
       "        vertical-align: middle;\n",
       "    }\n",
       "\n",
       "    .dataframe tbody tr th {\n",
       "        vertical-align: top;\n",
       "    }\n",
       "\n",
       "    .dataframe thead th {\n",
       "        text-align: right;\n",
       "    }\n",
       "</style>\n",
       "<table border=\"1\" class=\"dataframe\">\n",
       "  <thead>\n",
       "    <tr style=\"text-align: right;\">\n",
       "      <th></th>\n",
       "      <th>Name</th>\n",
       "      <th>Code</th>\n",
       "      <th>Probability</th>\n",
       "      <th>y_int</th>\n",
       "      <th>x_int</th>\n",
       "      <th>index_code</th>\n",
       "      <th>axis</th>\n",
       "      <th>R0_C0</th>\n",
       "      <th>R1_C0</th>\n",
       "      <th>R2_C0</th>\n",
       "      <th>...</th>\n",
       "      <th>R2_C2</th>\n",
       "      <th>R3_C2</th>\n",
       "      <th>R4_C2</th>\n",
       "      <th>R5_C2</th>\n",
       "      <th>R0_C3</th>\n",
       "      <th>R1_C3</th>\n",
       "      <th>R2_C3</th>\n",
       "      <th>R3_C3</th>\n",
       "      <th>R4_C3</th>\n",
       "      <th>R5_C3</th>\n",
       "    </tr>\n",
       "  </thead>\n",
       "  <tbody>\n",
       "    <tr>\n",
       "      <th>0</th>\n",
       "      <td>background</td>\n",
       "      <td>0000</td>\n",
       "      <td>0.964294</td>\n",
       "      <td>1</td>\n",
       "      <td>153</td>\n",
       "      <td>NaN</td>\n",
       "      <td>1</td>\n",
       "      <td>0</td>\n",
       "      <td>0</td>\n",
       "      <td>0</td>\n",
       "      <td>...</td>\n",
       "      <td>0</td>\n",
       "      <td>0</td>\n",
       "      <td>0</td>\n",
       "      <td>0</td>\n",
       "      <td>0</td>\n",
       "      <td>0</td>\n",
       "      <td>0</td>\n",
       "      <td>0</td>\n",
       "      <td>0</td>\n",
       "      <td>0</td>\n",
       "    </tr>\n",
       "    <tr>\n",
       "      <th>1</th>\n",
       "      <td>Fos</td>\n",
       "      <td>CTGCAC</td>\n",
       "      <td>0.158820</td>\n",
       "      <td>2</td>\n",
       "      <td>829</td>\n",
       "      <td>132141.0</td>\n",
       "      <td>1</td>\n",
       "      <td>0</td>\n",
       "      <td>0</td>\n",
       "      <td>5</td>\n",
       "      <td>...</td>\n",
       "      <td>2</td>\n",
       "      <td>3</td>\n",
       "      <td>0</td>\n",
       "      <td>0</td>\n",
       "      <td>0</td>\n",
       "      <td>0</td>\n",
       "      <td>0</td>\n",
       "      <td>0</td>\n",
       "      <td>0</td>\n",
       "      <td>0</td>\n",
       "    </tr>\n",
       "    <tr>\n",
       "      <th>2</th>\n",
       "      <td>Bdnf</td>\n",
       "      <td>TTCGTC</td>\n",
       "      <td>0.269279</td>\n",
       "      <td>1</td>\n",
       "      <td>969</td>\n",
       "      <td>331231.0</td>\n",
       "      <td>1</td>\n",
       "      <td>0</td>\n",
       "      <td>0</td>\n",
       "      <td>0</td>\n",
       "      <td>...</td>\n",
       "      <td>2</td>\n",
       "      <td>0</td>\n",
       "      <td>0</td>\n",
       "      <td>9</td>\n",
       "      <td>898</td>\n",
       "      <td>5</td>\n",
       "      <td>0</td>\n",
       "      <td>0</td>\n",
       "      <td>0</td>\n",
       "      <td>0</td>\n",
       "    </tr>\n",
       "    <tr>\n",
       "      <th>3</th>\n",
       "      <td>Trh</td>\n",
       "      <td>CCATAA</td>\n",
       "      <td>0.524485</td>\n",
       "      <td>1</td>\n",
       "      <td>1044</td>\n",
       "      <td>114344.0</td>\n",
       "      <td>1</td>\n",
       "      <td>0</td>\n",
       "      <td>0</td>\n",
       "      <td>45</td>\n",
       "      <td>...</td>\n",
       "      <td>4</td>\n",
       "      <td>0</td>\n",
       "      <td>0</td>\n",
       "      <td>0</td>\n",
       "      <td>0</td>\n",
       "      <td>0</td>\n",
       "      <td>0</td>\n",
       "      <td>0</td>\n",
       "      <td>0</td>\n",
       "      <td>0</td>\n",
       "    </tr>\n",
       "    <tr>\n",
       "      <th>4</th>\n",
       "      <td>Pdyn</td>\n",
       "      <td>CGGACA</td>\n",
       "      <td>0.797838</td>\n",
       "      <td>2</td>\n",
       "      <td>2087</td>\n",
       "      <td>122414.0</td>\n",
       "      <td>1</td>\n",
       "      <td>0</td>\n",
       "      <td>0</td>\n",
       "      <td>4</td>\n",
       "      <td>...</td>\n",
       "      <td>0</td>\n",
       "      <td>0</td>\n",
       "      <td>4</td>\n",
       "      <td>0</td>\n",
       "      <td>0</td>\n",
       "      <td>0</td>\n",
       "      <td>0</td>\n",
       "      <td>0</td>\n",
       "      <td>0</td>\n",
       "      <td>0</td>\n",
       "    </tr>\n",
       "    <tr>\n",
       "      <th>...</th>\n",
       "      <td>...</td>\n",
       "      <td>...</td>\n",
       "      <td>...</td>\n",
       "      <td>...</td>\n",
       "      <td>...</td>\n",
       "      <td>...</td>\n",
       "      <td>...</td>\n",
       "      <td>...</td>\n",
       "      <td>...</td>\n",
       "      <td>...</td>\n",
       "      <td>...</td>\n",
       "      <td>...</td>\n",
       "      <td>...</td>\n",
       "      <td>...</td>\n",
       "      <td>...</td>\n",
       "      <td>...</td>\n",
       "      <td>...</td>\n",
       "      <td>...</td>\n",
       "      <td>...</td>\n",
       "      <td>...</td>\n",
       "      <td>...</td>\n",
       "    </tr>\n",
       "    <tr>\n",
       "      <th>32238</th>\n",
       "      <td>background</td>\n",
       "      <td>0000</td>\n",
       "      <td>0.964294</td>\n",
       "      <td>4110</td>\n",
       "      <td>1043</td>\n",
       "      <td>NaN</td>\n",
       "      <td>1</td>\n",
       "      <td>0</td>\n",
       "      <td>0</td>\n",
       "      <td>0</td>\n",
       "      <td>...</td>\n",
       "      <td>0</td>\n",
       "      <td>0</td>\n",
       "      <td>0</td>\n",
       "      <td>0</td>\n",
       "      <td>0</td>\n",
       "      <td>0</td>\n",
       "      <td>0</td>\n",
       "      <td>0</td>\n",
       "      <td>0</td>\n",
       "      <td>0</td>\n",
       "    </tr>\n",
       "    <tr>\n",
       "      <th>32239</th>\n",
       "      <td>background</td>\n",
       "      <td>0000</td>\n",
       "      <td>0.964294</td>\n",
       "      <td>4110</td>\n",
       "      <td>1162</td>\n",
       "      <td>NaN</td>\n",
       "      <td>1</td>\n",
       "      <td>0</td>\n",
       "      <td>0</td>\n",
       "      <td>0</td>\n",
       "      <td>...</td>\n",
       "      <td>0</td>\n",
       "      <td>0</td>\n",
       "      <td>0</td>\n",
       "      <td>0</td>\n",
       "      <td>0</td>\n",
       "      <td>0</td>\n",
       "      <td>0</td>\n",
       "      <td>0</td>\n",
       "      <td>0</td>\n",
       "      <td>0</td>\n",
       "    </tr>\n",
       "    <tr>\n",
       "      <th>32240</th>\n",
       "      <td>background</td>\n",
       "      <td>0000</td>\n",
       "      <td>0.964294</td>\n",
       "      <td>4110</td>\n",
       "      <td>1583</td>\n",
       "      <td>NaN</td>\n",
       "      <td>1</td>\n",
       "      <td>0</td>\n",
       "      <td>0</td>\n",
       "      <td>0</td>\n",
       "      <td>...</td>\n",
       "      <td>0</td>\n",
       "      <td>0</td>\n",
       "      <td>0</td>\n",
       "      <td>0</td>\n",
       "      <td>0</td>\n",
       "      <td>0</td>\n",
       "      <td>0</td>\n",
       "      <td>0</td>\n",
       "      <td>0</td>\n",
       "      <td>0</td>\n",
       "    </tr>\n",
       "    <tr>\n",
       "      <th>32241</th>\n",
       "      <td>background</td>\n",
       "      <td>0000</td>\n",
       "      <td>0.964294</td>\n",
       "      <td>4110</td>\n",
       "      <td>1788</td>\n",
       "      <td>NaN</td>\n",
       "      <td>1</td>\n",
       "      <td>0</td>\n",
       "      <td>0</td>\n",
       "      <td>0</td>\n",
       "      <td>...</td>\n",
       "      <td>0</td>\n",
       "      <td>0</td>\n",
       "      <td>0</td>\n",
       "      <td>0</td>\n",
       "      <td>0</td>\n",
       "      <td>0</td>\n",
       "      <td>0</td>\n",
       "      <td>0</td>\n",
       "      <td>0</td>\n",
       "      <td>0</td>\n",
       "    </tr>\n",
       "    <tr>\n",
       "      <th>32242</th>\n",
       "      <td>background</td>\n",
       "      <td>0000</td>\n",
       "      <td>0.964294</td>\n",
       "      <td>4111</td>\n",
       "      <td>3455</td>\n",
       "      <td>NaN</td>\n",
       "      <td>1</td>\n",
       "      <td>0</td>\n",
       "      <td>0</td>\n",
       "      <td>0</td>\n",
       "      <td>...</td>\n",
       "      <td>0</td>\n",
       "      <td>0</td>\n",
       "      <td>0</td>\n",
       "      <td>0</td>\n",
       "      <td>0</td>\n",
       "      <td>0</td>\n",
       "      <td>0</td>\n",
       "      <td>0</td>\n",
       "      <td>0</td>\n",
       "      <td>0</td>\n",
       "    </tr>\n",
       "  </tbody>\n",
       "</table>\n",
       "<p>32243 rows × 31 columns</p>\n",
       "</div>"
      ],
      "text/plain": [
       "             Name    Code  Probability  y_int  x_int  index_code  axis  R0_C0  \\\n",
       "0      background    0000     0.964294      1    153         NaN     1      0   \n",
       "1             Fos  CTGCAC     0.158820      2    829    132141.0     1      0   \n",
       "2            Bdnf  TTCGTC     0.269279      1    969    331231.0     1      0   \n",
       "3             Trh  CCATAA     0.524485      1   1044    114344.0     1      0   \n",
       "4            Pdyn  CGGACA     0.797838      2   2087    122414.0     1      0   \n",
       "...           ...     ...          ...    ...    ...         ...   ...    ...   \n",
       "32238  background    0000     0.964294   4110   1043         NaN     1      0   \n",
       "32239  background    0000     0.964294   4110   1162         NaN     1      0   \n",
       "32240  background    0000     0.964294   4110   1583         NaN     1      0   \n",
       "32241  background    0000     0.964294   4110   1788         NaN     1      0   \n",
       "32242  background    0000     0.964294   4111   3455         NaN     1      0   \n",
       "\n",
       "       R1_C0  R2_C0  ...  R2_C2  R3_C2  R4_C2  R5_C2  R0_C3  R1_C3  R2_C3  \\\n",
       "0          0      0  ...      0      0      0      0      0      0      0   \n",
       "1          0      5  ...      2      3      0      0      0      0      0   \n",
       "2          0      0  ...      2      0      0      9    898      5      0   \n",
       "3          0     45  ...      4      0      0      0      0      0      0   \n",
       "4          0      4  ...      0      0      4      0      0      0      0   \n",
       "...      ...    ...  ...    ...    ...    ...    ...    ...    ...    ...   \n",
       "32238      0      0  ...      0      0      0      0      0      0      0   \n",
       "32239      0      0  ...      0      0      0      0      0      0      0   \n",
       "32240      0      0  ...      0      0      0      0      0      0      0   \n",
       "32241      0      0  ...      0      0      0      0      0      0      0   \n",
       "32242      0      0  ...      0      0      0      0      0      0      0   \n",
       "\n",
       "       R3_C3  R4_C3  R5_C3  \n",
       "0          0      0      0  \n",
       "1          0      0      0  \n",
       "2          0      0      0  \n",
       "3          0      0      0  \n",
       "4          0      0      0  \n",
       "...      ...    ...    ...  \n",
       "32238      0      0      0  \n",
       "32239      0      0      0  \n",
       "32240      0      0      0  \n",
       "32241      0      0      0  \n",
       "32242      0      0      0  \n",
       "\n",
       "[32243 rows x 31 columns]"
      ]
     },
     "execution_count": 42,
     "metadata": {},
     "output_type": "execute_result"
    }
   ],
   "source": [
    "decoded_peaks"
   ]
  },
  {
   "cell_type": "code",
   "execution_count": 43,
   "metadata": {},
   "outputs": [],
   "source": [
    "decoded_group = decoded_peaks[decoded_peaks.Probability > 0.9]"
   ]
  },
  {
   "cell_type": "code",
   "execution_count": 44,
   "metadata": {},
   "outputs": [
    {
     "data": {
      "text/plain": [
       "array(['background', 'Fos', 'Bdnf', 'Trh', 'Pdyn', 'Gfap', 'Itgam',\n",
       "       'Acta2', 'Slc17a7', 'Ntrk2', 'Npy2r', 'Slc6a3', 'Laptm5', 'Fev',\n",
       "       'Neurod1', 'infeasible', 'Chat', 'Oxt', 'Npy', 'Pvalb', 'Calca',\n",
       "       'Sst', 'Gad1', 'Gja1', 'Mbp', 'Gad2', 'Kcnj8', 'P2rx3', 'Plp1',\n",
       "       'Sncg', 'Ptprc', 'Tubb3', 'Ache', 'Slc6a4', 'Ndnf', 'Th', 'Slc6a5',\n",
       "       'Vip', 'Slc6a1', 'Syn1', 'Rbfox3', 'Dcn', 'Spp1', 'Trpv1', 'Tph1',\n",
       "       'Nefh', 'Map2', 'Slc17a6', 'Pcp4', 'Aldoc'], dtype=object)"
      ]
     },
     "execution_count": 44,
     "metadata": {},
     "output_type": "execute_result"
    }
   ],
   "source": [
    "decoded_peaks.Name.unique()"
   ]
  },
  {
   "cell_type": "code",
   "execution_count": 45,
   "metadata": {},
   "outputs": [],
   "source": [
    "decoded_group = decoded_peaks.groupby(\"Name\")"
   ]
  },
  {
   "cell_type": "code",
   "execution_count": 46,
   "metadata": {
    "scrolled": true
   },
   "outputs": [],
   "source": [
    "spot_layers = {}\n",
    "for n, grp in decoded_group:\n",
    "    # print(n, grp)\n",
    "    spot_layers[n] = viewer.add_points(grp[['y_int', 'x_int']], name=n)"
   ]
  },
  {
   "cell_type": "code",
   "execution_count": 47,
   "metadata": {},
   "outputs": [],
   "source": [
    "for n in spot_layers:\n",
    "    spot_layers[n].visible=False"
   ]
  },
  {
   "cell_type": "code",
   "execution_count": 48,
   "metadata": {},
   "outputs": [],
   "source": [
    "spot_layers['Vip'].face_color= 'red'\n",
    "spot_layers['Vip'].visible= True\n",
    "spot_layers['Vip'].size= 100"
   ]
  },
  {
   "cell_type": "markdown",
   "metadata": {},
   "source": [
    "More in https://napari.org/stable/howtos/layers/points.html"
   ]
  },
  {
   "cell_type": "code",
   "execution_count": null,
   "metadata": {},
   "outputs": [],
   "source": []
  }
 ],
 "metadata": {
  "kernelspec": {
   "display_name": "EMBL_training",
   "language": "python",
   "name": "embl_training"
  },
  "language_info": {
   "codemirror_mode": {
    "name": "ipython",
    "version": 3
   },
   "file_extension": ".py",
   "mimetype": "text/x-python",
   "name": "python",
   "nbconvert_exporter": "python",
   "pygments_lexer": "ipython3",
   "version": "3.9.16"
  }
 },
 "nbformat": 4,
 "nbformat_minor": 4
}
